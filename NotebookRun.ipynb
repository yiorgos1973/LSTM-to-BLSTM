{
 "cells": [
  {
   "cell_type": "code",
   "execution_count": 1,
   "metadata": {},
   "outputs": [
    {
     "name": "stderr",
     "output_type": "stream",
     "text": [
      "Using TensorFlow backend.\n"
     ]
    }
   ],
   "source": [
    "from modules import *  #  all classes defined in modules"
   ]
  },
  {
   "cell_type": "code",
   "execution_count": 2,
   "metadata": {},
   "outputs": [],
   "source": [
    "pd.set_option(\"display.max_colwidth\", 220)"
   ]
  },
  {
   "cell_type": "code",
   "execution_count": 12,
   "metadata": {},
   "outputs": [],
   "source": [
    "df = pd.read_csv(\"SentimentAnalysisCovid19/data.csv\", index_col=0)"
   ]
  },
  {
   "cell_type": "code",
   "execution_count": 19,
   "metadata": {},
   "outputs": [
    {
     "data": {
      "text/html": [
       "<div>\n",
       "<style scoped>\n",
       "    .dataframe tbody tr th:only-of-type {\n",
       "        vertical-align: middle;\n",
       "    }\n",
       "\n",
       "    .dataframe tbody tr th {\n",
       "        vertical-align: top;\n",
       "    }\n",
       "\n",
       "    .dataframe thead th {\n",
       "        text-align: right;\n",
       "    }\n",
       "</style>\n",
       "<table border=\"1\" class=\"dataframe\">\n",
       "  <thead>\n",
       "    <tr style=\"text-align: right;\">\n",
       "      <th></th>\n",
       "      <th>text</th>\n",
       "      <th>sentiment</th>\n",
       "    </tr>\n",
       "  </thead>\n",
       "  <tbody>\n",
       "    <tr>\n",
       "      <th>0</th>\n",
       "      <td>If you've recently heard from an old friend, you're not alone. A communication studies professor says he's not surprised that people are looking to reconnect with others they were once close to. “This is an utter res...</td>\n",
       "      <td>1</td>\n",
       "    </tr>\n",
       "    <tr>\n",
       "      <th>1</th>\n",
       "      <td>Dr. Hall says it makes sense that we would reach out to people we've had strong ties to. That's because if it has to be through phone calls or texts, we'd rather connect with someone we really want to talk to. Mainta...</td>\n",
       "      <td>1</td>\n",
       "    </tr>\n",
       "    <tr>\n",
       "      <th>2</th>\n",
       "      <td>\"Please, if you are going to protest, take care of yourself and stay safe,\" Ogbongbemiga said. Before the news, the Cowboys released a safe return plan for it's football student-athletes and indicted what would happe...</td>\n",
       "      <td>1</td>\n",
       "    </tr>\n",
       "    <tr>\n",
       "      <th>3</th>\n",
       "      <td>The Tulsa Health Department sent 2 Works for You the following statement: The Tulsa Health Department will contact any individual or setting deemed at risk for exposure for all confirmed positive COVID-19 cases among...</td>\n",
       "      <td>1</td>\n",
       "    </tr>\n",
       "    <tr>\n",
       "      <th>4</th>\n",
       "      <td>The industry is one of the hardest hit by the pandemic and it’s looking to Congress for help. Losses for the restaurant industry nationwide are expected to hit $80 billion by the end of the month. Around 8 million re...</td>\n",
       "      <td>0</td>\n",
       "    </tr>\n",
       "    <tr>\n",
       "      <th>...</th>\n",
       "      <td>...</td>\n",
       "      <td>...</td>\n",
       "    </tr>\n",
       "    <tr>\n",
       "      <th>33319</th>\n",
       "      <td>Ferrer again walked through data from the past several months showing surges in coronavirus cases, hospitalizations and deaths following the spate of public gatherings that occurred over the Fourth of July holiday. S...</td>\n",
       "      <td>1</td>\n",
       "    </tr>\n",
       "    <tr>\n",
       "      <th>33320</th>\n",
       "      <td>We actually need to maintain, even more, our vigilance so we can continue to suppress the spread of the virus and get to a place where we can safely reopen additional sectors, particularly our schools. Ferrer announc...</td>\n",
       "      <td>1</td>\n",
       "    </tr>\n",
       "    <tr>\n",
       "      <th>33321</th>\n",
       "      <td>Democrats demanded a far larger bill, including hundreds of billions of dollars for state and local governments, more generous jobless benefits, and help for renters and homeowners, along with other provisions in the...</td>\n",
       "      <td>1</td>\n",
       "    </tr>\n",
       "    <tr>\n",
       "      <th>33322</th>\n",
       "      <td>RELATED: Trump says Americans can expect another round of coronavirus stimulus paymentsMcConnell's bill would provide $105 billion to help schools reopen, enact a shield against lawsuits for businesses and others tha...</td>\n",
       "      <td>1</td>\n",
       "    </tr>\n",
       "    <tr>\n",
       "      <th>33323</th>\n",
       "      <td>2 trillion, and while Trump's negotiators have signaled a willingness to inch further in her direction, a significant gap remains. RELATED: Study: 19% of COVID-19 cases nationwide from last month can be traced back t...</td>\n",
       "      <td>1</td>\n",
       "    </tr>\n",
       "  </tbody>\n",
       "</table>\n",
       "<p>33324 rows × 2 columns</p>\n",
       "</div>"
      ],
      "text/plain": [
       "                                                                                                                                                                                                                              text  \\\n",
       "0      If you've recently heard from an old friend, you're not alone. A communication studies professor says he's not surprised that people are looking to reconnect with others they were once close to. “This is an utter res...   \n",
       "1      Dr. Hall says it makes sense that we would reach out to people we've had strong ties to. That's because if it has to be through phone calls or texts, we'd rather connect with someone we really want to talk to. Mainta...   \n",
       "2      \"Please, if you are going to protest, take care of yourself and stay safe,\" Ogbongbemiga said. Before the news, the Cowboys released a safe return plan for it's football student-athletes and indicted what would happe...   \n",
       "3      The Tulsa Health Department sent 2 Works for You the following statement: The Tulsa Health Department will contact any individual or setting deemed at risk for exposure for all confirmed positive COVID-19 cases among...   \n",
       "4      The industry is one of the hardest hit by the pandemic and it’s looking to Congress for help. Losses for the restaurant industry nationwide are expected to hit $80 billion by the end of the month. Around 8 million re...   \n",
       "...                                                                                                                                                                                                                            ...   \n",
       "33319  Ferrer again walked through data from the past several months showing surges in coronavirus cases, hospitalizations and deaths following the spate of public gatherings that occurred over the Fourth of July holiday. S...   \n",
       "33320  We actually need to maintain, even more, our vigilance so we can continue to suppress the spread of the virus and get to a place where we can safely reopen additional sectors, particularly our schools. Ferrer announc...   \n",
       "33321  Democrats demanded a far larger bill, including hundreds of billions of dollars for state and local governments, more generous jobless benefits, and help for renters and homeowners, along with other provisions in the...   \n",
       "33322  RELATED: Trump says Americans can expect another round of coronavirus stimulus paymentsMcConnell's bill would provide $105 billion to help schools reopen, enact a shield against lawsuits for businesses and others tha...   \n",
       "33323  2 trillion, and while Trump's negotiators have signaled a willingness to inch further in her direction, a significant gap remains. RELATED: Study: 19% of COVID-19 cases nationwide from last month can be traced back t...   \n",
       "\n",
       "       sentiment  \n",
       "0              1  \n",
       "1              1  \n",
       "2              1  \n",
       "3              1  \n",
       "4              0  \n",
       "...          ...  \n",
       "33319          1  \n",
       "33320          1  \n",
       "33321          1  \n",
       "33322          1  \n",
       "33323          1  \n",
       "\n",
       "[33324 rows x 2 columns]"
      ]
     },
     "execution_count": 19,
     "metadata": {},
     "output_type": "execute_result"
    }
   ],
   "source": [
    "df"
   ]
  },
  {
   "cell_type": "code",
   "execution_count": 44,
   "metadata": {},
   "outputs": [
    {
     "data": {
      "text/html": [
       "<div>\n",
       "<style scoped>\n",
       "    .dataframe tbody tr th:only-of-type {\n",
       "        vertical-align: middle;\n",
       "    }\n",
       "\n",
       "    .dataframe tbody tr th {\n",
       "        vertical-align: top;\n",
       "    }\n",
       "\n",
       "    .dataframe thead th {\n",
       "        text-align: right;\n",
       "    }\n",
       "</style>\n",
       "<table border=\"1\" class=\"dataframe\">\n",
       "  <thead>\n",
       "    <tr style=\"text-align: right;\">\n",
       "      <th></th>\n",
       "      <th>text</th>\n",
       "      <th>sentiment</th>\n",
       "    </tr>\n",
       "  </thead>\n",
       "  <tbody>\n",
       "    <tr>\n",
       "      <th>0</th>\n",
       "      <td>If you've recently heard from an old friend, you're not alone. A communication studies professor says he's not surprised that people are looking to reconnect with others they were once close to. “This is an utter res...</td>\n",
       "      <td>1</td>\n",
       "    </tr>\n",
       "    <tr>\n",
       "      <th>1</th>\n",
       "      <td>Dr. Hall says it makes sense that we would reach out to people we've had strong ties to. That's because if it has to be through phone calls or texts, we'd rather connect with someone we really want to talk to. Mainta...</td>\n",
       "      <td>1</td>\n",
       "    </tr>\n",
       "    <tr>\n",
       "      <th>2</th>\n",
       "      <td>\"Please, if you are going to protest, take care of yourself and stay safe,\" Ogbongbemiga said. Before the news, the Cowboys released a safe return plan for it's football student-athletes and indicted what would happe...</td>\n",
       "      <td>1</td>\n",
       "    </tr>\n",
       "    <tr>\n",
       "      <th>3</th>\n",
       "      <td>The Tulsa Health Department sent 2 Works for You the following statement: The Tulsa Health Department will contact any individual or setting deemed at risk for exposure for all confirmed positive COVID-19 cases among...</td>\n",
       "      <td>1</td>\n",
       "    </tr>\n",
       "    <tr>\n",
       "      <th>4</th>\n",
       "      <td>The industry is one of the hardest hit by the pandemic and it’s looking to Congress for help. Losses for the restaurant industry nationwide are expected to hit $80 billion by the end of the month. Around 8 million re...</td>\n",
       "      <td>0</td>\n",
       "    </tr>\n",
       "    <tr>\n",
       "      <th>...</th>\n",
       "      <td>...</td>\n",
       "      <td>...</td>\n",
       "    </tr>\n",
       "    <tr>\n",
       "      <th>33319</th>\n",
       "      <td>Ferrer again walked through data from the past several months showing surges in coronavirus cases, hospitalizations and deaths following the spate of public gatherings that occurred over the Fourth of July holiday. S...</td>\n",
       "      <td>1</td>\n",
       "    </tr>\n",
       "    <tr>\n",
       "      <th>33320</th>\n",
       "      <td>We actually need to maintain, even more, our vigilance so we can continue to suppress the spread of the virus and get to a place where we can safely reopen additional sectors, particularly our schools. Ferrer announc...</td>\n",
       "      <td>1</td>\n",
       "    </tr>\n",
       "    <tr>\n",
       "      <th>33321</th>\n",
       "      <td>Democrats demanded a far larger bill, including hundreds of billions of dollars for state and local governments, more generous jobless benefits, and help for renters and homeowners, along with other provisions in the...</td>\n",
       "      <td>1</td>\n",
       "    </tr>\n",
       "    <tr>\n",
       "      <th>33322</th>\n",
       "      <td>RELATED: Trump says Americans can expect another round of coronavirus stimulus paymentsMcConnell's bill would provide $105 billion to help schools reopen, enact a shield against lawsuits for businesses and others tha...</td>\n",
       "      <td>1</td>\n",
       "    </tr>\n",
       "    <tr>\n",
       "      <th>33323</th>\n",
       "      <td>2 trillion, and while Trump's negotiators have signaled a willingness to inch further in her direction, a significant gap remains. RELATED: Study: 19% of COVID-19 cases nationwide from last month can be traced back t...</td>\n",
       "      <td>1</td>\n",
       "    </tr>\n",
       "  </tbody>\n",
       "</table>\n",
       "<p>33324 rows × 2 columns</p>\n",
       "</div>"
      ],
      "text/plain": [
       "                                                                                                                                                                                                                              text  \\\n",
       "0      If you've recently heard from an old friend, you're not alone. A communication studies professor says he's not surprised that people are looking to reconnect with others they were once close to. “This is an utter res...   \n",
       "1      Dr. Hall says it makes sense that we would reach out to people we've had strong ties to. That's because if it has to be through phone calls or texts, we'd rather connect with someone we really want to talk to. Mainta...   \n",
       "2      \"Please, if you are going to protest, take care of yourself and stay safe,\" Ogbongbemiga said. Before the news, the Cowboys released a safe return plan for it's football student-athletes and indicted what would happe...   \n",
       "3      The Tulsa Health Department sent 2 Works for You the following statement: The Tulsa Health Department will contact any individual or setting deemed at risk for exposure for all confirmed positive COVID-19 cases among...   \n",
       "4      The industry is one of the hardest hit by the pandemic and it’s looking to Congress for help. Losses for the restaurant industry nationwide are expected to hit $80 billion by the end of the month. Around 8 million re...   \n",
       "...                                                                                                                                                                                                                            ...   \n",
       "33319  Ferrer again walked through data from the past several months showing surges in coronavirus cases, hospitalizations and deaths following the spate of public gatherings that occurred over the Fourth of July holiday. S...   \n",
       "33320  We actually need to maintain, even more, our vigilance so we can continue to suppress the spread of the virus and get to a place where we can safely reopen additional sectors, particularly our schools. Ferrer announc...   \n",
       "33321  Democrats demanded a far larger bill, including hundreds of billions of dollars for state and local governments, more generous jobless benefits, and help for renters and homeowners, along with other provisions in the...   \n",
       "33322  RELATED: Trump says Americans can expect another round of coronavirus stimulus paymentsMcConnell's bill would provide $105 billion to help schools reopen, enact a shield against lawsuits for businesses and others tha...   \n",
       "33323  2 trillion, and while Trump's negotiators have signaled a willingness to inch further in her direction, a significant gap remains. RELATED: Study: 19% of COVID-19 cases nationwide from last month can be traced back t...   \n",
       "\n",
       "       sentiment  \n",
       "0              1  \n",
       "1              1  \n",
       "2              1  \n",
       "3              1  \n",
       "4              0  \n",
       "...          ...  \n",
       "33319          1  \n",
       "33320          1  \n",
       "33321          1  \n",
       "33322          1  \n",
       "33323          1  \n",
       "\n",
       "[33324 rows x 2 columns]"
      ]
     },
     "execution_count": 44,
     "metadata": {},
     "output_type": "execute_result"
    }
   ],
   "source": [
    "data"
   ]
  },
  {
   "cell_type": "code",
   "execution_count": 21,
   "metadata": {},
   "outputs": [
    {
     "data": {
      "text/plain": [
       "<AxesSubplot:>"
      ]
     },
     "execution_count": 21,
     "metadata": {},
     "output_type": "execute_result"
    },
    {
     "data": {
      "image/png": "[encoded data removed]",
      "text/plain": [
       "<Figure size 432x288 with 1 Axes>"
      ]
     },
     "metadata": {
      "needs_background": "light"
     },
     "output_type": "display_data"
    }
   ],
   "source": [
    "df.sentiment.hist(bins=2)"
   ]
  },
  {
   "cell_type": "code",
   "execution_count": 22,
   "metadata": {},
   "outputs": [
    {
     "data": {
      "text/plain": [
       "count    33324.000000\n",
       "mean         0.625105\n",
       "std          0.484103\n",
       "min          0.000000\n",
       "25%          0.000000\n",
       "50%          1.000000\n",
       "75%          1.000000\n",
       "max          1.000000\n",
       "Name: sentiment, dtype: float64"
      ]
     },
     "execution_count": 22,
     "metadata": {},
     "output_type": "execute_result"
    }
   ],
   "source": [
    "data.sentiment.describe()"
   ]
  },
  {
   "cell_type": "code",
   "execution_count": 47,
   "metadata": {},
   "outputs": [
    {
     "data": {
      "text/html": [
       "<div>\n",
       "<style scoped>\n",
       "    .dataframe tbody tr th:only-of-type {\n",
       "        vertical-align: middle;\n",
       "    }\n",
       "\n",
       "    .dataframe tbody tr th {\n",
       "        vertical-align: top;\n",
       "    }\n",
       "\n",
       "    .dataframe thead th {\n",
       "        text-align: right;\n",
       "    }\n",
       "</style>\n",
       "<table border=\"1\" class=\"dataframe\">\n",
       "  <thead>\n",
       "    <tr style=\"text-align: right;\">\n",
       "      <th></th>\n",
       "      <th>text</th>\n",
       "      <th>sentiment</th>\n",
       "    </tr>\n",
       "  </thead>\n",
       "  <tbody>\n",
       "    <tr>\n",
       "      <th>0</th>\n",
       "      <td>If you've recently heard from an old friend, you're not alone. A communication studies professor says he's not surprised that people are looking to reconnect with others they were once close to. “This is an utter res...</td>\n",
       "      <td>1</td>\n",
       "    </tr>\n",
       "    <tr>\n",
       "      <th>1</th>\n",
       "      <td>Dr. Hall says it makes sense that we would reach out to people we've had strong ties to. That's because if it has to be through phone calls or texts, we'd rather connect with someone we really want to talk to. Mainta...</td>\n",
       "      <td>1</td>\n",
       "    </tr>\n",
       "    <tr>\n",
       "      <th>2</th>\n",
       "      <td>\"Please, if you are going to protest, take care of yourself and stay safe,\" Ogbongbemiga said. Before the news, the Cowboys released a safe return plan for it's football student-athletes and indicted what would happe...</td>\n",
       "      <td>1</td>\n",
       "    </tr>\n",
       "    <tr>\n",
       "      <th>3</th>\n",
       "      <td>The Tulsa Health Department sent 2 Works for You the following statement: The Tulsa Health Department will contact any individual or setting deemed at risk for exposure for all confirmed positive COVID-19 cases among...</td>\n",
       "      <td>1</td>\n",
       "    </tr>\n",
       "    <tr>\n",
       "      <th>4</th>\n",
       "      <td>The industry is one of the hardest hit by the pandemic and it’s looking to Congress for help. Losses for the restaurant industry nationwide are expected to hit $80 billion by the end of the month. Around 8 million re...</td>\n",
       "      <td>0</td>\n",
       "    </tr>\n",
       "    <tr>\n",
       "      <th>5</th>\n",
       "      <td>We need more flexibility so we can use the time, ramp our operations back up and continue bringing people back through our doors. ”Giving businesses more time to use the money is one change the restaurant industry is...</td>\n",
       "      <td>0</td>\n",
       "    </tr>\n",
       "    <tr>\n",
       "      <th>6</th>\n",
       "      <td>Doctors later discovered his near-death experience was a reaction to the novel coronavirus. Roup Hardowar said his 8-year-old son, Jayden, had been suffering from a fever for several days. His pediatrician was confid...</td>\n",
       "      <td>0</td>\n",
       "    </tr>\n",
       "    <tr>\n",
       "      <th>7</th>\n",
       "      <td>Paramedics arrived and rushed Jayden to Cohen Children’s Medical Center. The 2nd-grader was put on a ventilator for three days as doctors tried to figure out what caused his cardiac arrest. After four negative COVID-...</td>\n",
       "      <td>0</td>\n",
       "    </tr>\n",
       "    <tr>\n",
       "      <th>8</th>\n",
       "      <td>“Some kids have very direct effects on the heart for this inflammatory process, so it can lead to profound heart dysfunction…to cardiac arrest,” said Dr. Schneider. Doctors say parents should look for several symptom...</td>\n",
       "      <td>1</td>\n",
       "    </tr>\n",
       "    <tr>\n",
       "      <th>9</th>\n",
       "      <td>For the CDC’s latest information on this emerging syndrome, click HERE. NEW YORK (AP) — New York City's mayor is rejecting calls to stop having police officers enforce social distancing during the coronavirus crisis....</td>\n",
       "      <td>0</td>\n",
       "    </tr>\n",
       "  </tbody>\n",
       "</table>\n",
       "</div>"
      ],
      "text/plain": [
       "                                                                                                                                                                                                                          text  \\\n",
       "0  If you've recently heard from an old friend, you're not alone. A communication studies professor says he's not surprised that people are looking to reconnect with others they were once close to. “This is an utter res...   \n",
       "1  Dr. Hall says it makes sense that we would reach out to people we've had strong ties to. That's because if it has to be through phone calls or texts, we'd rather connect with someone we really want to talk to. Mainta...   \n",
       "2  \"Please, if you are going to protest, take care of yourself and stay safe,\" Ogbongbemiga said. Before the news, the Cowboys released a safe return plan for it's football student-athletes and indicted what would happe...   \n",
       "3  The Tulsa Health Department sent 2 Works for You the following statement: The Tulsa Health Department will contact any individual or setting deemed at risk for exposure for all confirmed positive COVID-19 cases among...   \n",
       "4  The industry is one of the hardest hit by the pandemic and it’s looking to Congress for help. Losses for the restaurant industry nationwide are expected to hit $80 billion by the end of the month. Around 8 million re...   \n",
       "5  We need more flexibility so we can use the time, ramp our operations back up and continue bringing people back through our doors. ”Giving businesses more time to use the money is one change the restaurant industry is...   \n",
       "6  Doctors later discovered his near-death experience was a reaction to the novel coronavirus. Roup Hardowar said his 8-year-old son, Jayden, had been suffering from a fever for several days. His pediatrician was confid...   \n",
       "7  Paramedics arrived and rushed Jayden to Cohen Children’s Medical Center. The 2nd-grader was put on a ventilator for three days as doctors tried to figure out what caused his cardiac arrest. After four negative COVID-...   \n",
       "8  “Some kids have very direct effects on the heart for this inflammatory process, so it can lead to profound heart dysfunction…to cardiac arrest,” said Dr. Schneider. Doctors say parents should look for several symptom...   \n",
       "9  For the CDC’s latest information on this emerging syndrome, click HERE. NEW YORK (AP) — New York City's mayor is rejecting calls to stop having police officers enforce social distancing during the coronavirus crisis....   \n",
       "\n",
       "   sentiment  \n",
       "0          1  \n",
       "1          1  \n",
       "2          1  \n",
       "3          1  \n",
       "4          0  \n",
       "5          0  \n",
       "6          0  \n",
       "7          0  \n",
       "8          1  \n",
       "9          0  "
      ]
     },
     "execution_count": 47,
     "metadata": {},
     "output_type": "execute_result"
    }
   ],
   "source": [
    "data.iloc[:10]"
   ]
  },
  {
   "cell_type": "code",
   "execution_count": 48,
   "metadata": {},
   "outputs": [
    {
     "data": {
      "text/plain": [
       "\"The industry is one of the hardest hit by the pandemic and it’s looking to Congress for help. Losses for the restaurant industry nationwide are expected to hit $80 billion by the end of the month. Around 8 million restaurant workers have been furloughed or laid off. The National Restaurant Association says more than 40% of restaurants are closed now. It's worried a growing number of them won't be able to reopen in the weeks ahead without assistance from the federal government. Recent Stories from 10news. com PLAY Top Videos San Diego businesses trying to survive the purple tier Video Settings Auto Full Screen About Connatix V78152 Watch More Watch More Watch More Watch More Watch More Watch More 1 min. story Skip 1/1 SPONSORED Visit Advertiser website GO TO PAGE / Coming Next Skip Ad The Paycheck Protection Program has helped small businesses, but the association says the loan terms don't work well for restaurants. “Right now, they have to be used in an 8-week period,” said Sean Kennedy, Executive Vice President of Public Affairs for the National Restaurant Association. “For restaurants who have an uncertain future now and a really uncertain future as we begin to reopen, that's just not enough time.\""
      ]
     },
     "execution_count": 48,
     "metadata": {},
     "output_type": "execute_result"
    }
   ],
   "source": [
    "data.loc[4, 'text']"
   ]
  },
  {
   "cell_type": "code",
   "execution_count": 50,
   "metadata": {},
   "outputs": [
    {
     "name": "stdout",
     "output_type": "stream",
     "text": [
      "Object loaded successfully.\n"
     ]
    }
   ],
   "source": [
    "sw = Stopwords().load(\"stopwords20201130204117.pkl\")\n",
    "negations = [s for s in sw.default_missing() if any(e in s for e in ['not', \"n't\", \"nt\", \"nor\"])]\n",
    "stopwords = sw.stopwords \n",
    "negations.extend([\"cannot\", \"can't\"])\n",
    "replacer = dict(zip(negations + stopwords, [\"<negation>\"] * len(negations) + [\"<stopword>\"] * len(stopwords))) "
   ]
  },
  {
   "cell_type": "code",
   "execution_count": 96,
   "metadata": {},
   "outputs": [
    {
     "data": {
      "text/plain": [
       "22"
      ]
     },
     "execution_count": 96,
     "metadata": {},
     "output_type": "execute_result"
    }
   ],
   "source": [
    "len(negations)"
   ]
  },
  {
   "cell_type": "code",
   "execution_count": 51,
   "metadata": {},
   "outputs": [
    {
     "data": {
      "text/plain": [
       "{\"haven't\": '<negation>',\n",
       " \"hasn't\": '<negation>',\n",
       " \"isn't\": '<negation>',\n",
       " \"don't\": '<negation>',\n",
       " \"hadn't\": '<negation>',\n",
       " 'nor': '<negation>',\n",
       " \"needn't\": '<negation>',\n",
       " \"weren't\": '<negation>',\n",
       " \"won't\": '<negation>',\n",
       " \"aren't\": '<negation>',\n",
       " \"couldn't\": '<negation>',\n",
       " \"shouldn't\": '<negation>',\n",
       " 'not': '<negation>',\n",
       " \"didn't\": '<negation>',\n",
       " \"mustn't\": '<negation>',\n",
       " \"shan't\": '<negation>',\n",
       " \"wasn't\": '<negation>',\n",
       " \"doesn't\": '<negation>',\n",
       " \"mightn't\": '<negation>',\n",
       " \"wouldn't\": '<negation>',\n",
       " 'cannot': '<negation>',\n",
       " \"can't\": '<negation>',\n",
       " 'i': '<stopword>',\n",
       " 'me': '<stopword>',\n",
       " 'my': '<stopword>',\n",
       " 'myself': '<stopword>',\n",
       " 'we': '<stopword>',\n",
       " 'our': '<stopword>',\n",
       " 'ours': '<stopword>',\n",
       " 'ourselves': '<stopword>',\n",
       " 'you': '<stopword>',\n",
       " \"you're\": '<stopword>',\n",
       " \"you've\": '<stopword>',\n",
       " \"you'll\": '<stopword>',\n",
       " \"you'd\": '<stopword>',\n",
       " 'your': '<stopword>',\n",
       " 'yours': '<stopword>',\n",
       " 'yourself': '<stopword>',\n",
       " 'yourselves': '<stopword>',\n",
       " 'he': '<stopword>',\n",
       " 'him': '<stopword>',\n",
       " 'his': '<stopword>',\n",
       " 'himself': '<stopword>',\n",
       " 'she': '<stopword>',\n",
       " \"she's\": '<stopword>',\n",
       " 'her': '<stopword>',\n",
       " 'hers': '<stopword>',\n",
       " 'herself': '<stopword>',\n",
       " 'it': '<stopword>',\n",
       " \"it's\": '<stopword>',\n",
       " 'its': '<stopword>',\n",
       " 'itself': '<stopword>',\n",
       " 'they': '<stopword>',\n",
       " 'them': '<stopword>',\n",
       " 'their': '<stopword>',\n",
       " 'theirs': '<stopword>',\n",
       " 'themselves': '<stopword>',\n",
       " 'what': '<stopword>',\n",
       " 'which': '<stopword>',\n",
       " 'who': '<stopword>',\n",
       " 'whom': '<stopword>',\n",
       " 'this': '<stopword>',\n",
       " 'that': '<stopword>',\n",
       " \"that'll\": '<stopword>',\n",
       " 'these': '<stopword>',\n",
       " 'those': '<stopword>',\n",
       " 'am': '<stopword>',\n",
       " 'is': '<stopword>',\n",
       " 'are': '<stopword>',\n",
       " 'was': '<stopword>',\n",
       " 'were': '<stopword>',\n",
       " 'be': '<stopword>',\n",
       " 'been': '<stopword>',\n",
       " 'being': '<stopword>',\n",
       " 'have': '<stopword>',\n",
       " 'has': '<stopword>',\n",
       " 'had': '<stopword>',\n",
       " 'having': '<stopword>',\n",
       " 'do': '<stopword>',\n",
       " 'does': '<stopword>',\n",
       " 'did': '<stopword>',\n",
       " 'doing': '<stopword>',\n",
       " 'a': '<stopword>',\n",
       " 'an': '<stopword>',\n",
       " 'the': '<stopword>',\n",
       " 'and': '<stopword>',\n",
       " 'but': '<stopword>',\n",
       " 'if': '<stopword>',\n",
       " 'or': '<stopword>',\n",
       " 'because': '<stopword>',\n",
       " 'as': '<stopword>',\n",
       " 'until': '<stopword>',\n",
       " 'while': '<stopword>',\n",
       " 'of': '<stopword>',\n",
       " 'at': '<stopword>',\n",
       " 'by': '<stopword>',\n",
       " 'for': '<stopword>',\n",
       " 'with': '<stopword>',\n",
       " 'about': '<stopword>',\n",
       " 'against': '<stopword>',\n",
       " 'between': '<stopword>',\n",
       " 'into': '<stopword>',\n",
       " 'through': '<stopword>',\n",
       " 'during': '<stopword>',\n",
       " 'before': '<stopword>',\n",
       " 'after': '<stopword>',\n",
       " 'above': '<stopword>',\n",
       " 'below': '<stopword>',\n",
       " 'to': '<stopword>',\n",
       " 'from': '<stopword>',\n",
       " 'up': '<stopword>',\n",
       " 'down': '<stopword>',\n",
       " 'in': '<stopword>',\n",
       " 'out': '<stopword>',\n",
       " 'on': '<stopword>',\n",
       " 'off': '<stopword>',\n",
       " 'over': '<stopword>',\n",
       " 'under': '<stopword>',\n",
       " 'again': '<stopword>',\n",
       " 'further': '<stopword>',\n",
       " 'then': '<stopword>',\n",
       " 'once': '<stopword>',\n",
       " 'here': '<stopword>',\n",
       " 'there': '<stopword>',\n",
       " 'when': '<stopword>',\n",
       " 'where': '<stopword>',\n",
       " 'why': '<stopword>',\n",
       " 'how': '<stopword>',\n",
       " 'all': '<stopword>',\n",
       " 'any': '<stopword>',\n",
       " 'both': '<stopword>',\n",
       " 'each': '<stopword>',\n",
       " 'few': '<stopword>',\n",
       " 'more': '<stopword>',\n",
       " 'most': '<stopword>',\n",
       " 'other': '<stopword>',\n",
       " 'some': '<stopword>',\n",
       " 'such': '<stopword>',\n",
       " 'own': '<stopword>',\n",
       " 'so': '<stopword>',\n",
       " 'than': '<stopword>',\n",
       " 'too': '<stopword>',\n",
       " 's': '<stopword>',\n",
       " 't': '<stopword>',\n",
       " 'can': '<stopword>',\n",
       " 'will': '<stopword>',\n",
       " 'just': '<stopword>',\n",
       " 'should': '<stopword>',\n",
       " \"should've\": '<stopword>',\n",
       " 'now': '<stopword>',\n",
       " 'd': '<stopword>',\n",
       " 'll': '<stopword>',\n",
       " 'm': '<stopword>',\n",
       " 'o': '<stopword>',\n",
       " 're': '<stopword>',\n",
       " 've': '<stopword>',\n",
       " 'y': '<stopword>',\n",
       " 'ma': '<stopword>',\n",
       " 'corona': '<stopword>',\n",
       " 'virus': '<stopword>',\n",
       " 'corona-virus': '<stopword>',\n",
       " 'covid': '<stopword>',\n",
       " 'covid19': '<stopword>',\n",
       " 'coronavirus': '<stopword>',\n",
       " 'viruses': '<stopword>'}"
      ]
     },
     "execution_count": 51,
     "metadata": {},
     "output_type": "execute_result"
    }
   ],
   "source": [
    "replacer"
   ]
  },
  {
   "cell_type": "code",
   "execution_count": 52,
   "metadata": {},
   "outputs": [
    {
     "name": "stdout",
     "output_type": "stream",
     "text": [
      "Extra Abbreviations: ['dr', 'vs', 'mr', 'mrs', 'prof', 'inc', 'i.e']\n"
     ]
    },
    {
     "data": {
      "text/plain": [
       "<TextsPreprocessor>"
      ]
     },
     "execution_count": 52,
     "metadata": {},
     "output_type": "execute_result"
    }
   ],
   "source": [
    "tp = TextsPreprocessor(stopwords=stopwords)\n",
    "print(\"Extra Abbreviations:\", tp.extra_abbreviations)\n",
    "tp.transformation_selection['reconstruct'] = False\n",
    "tp.transformation_selection['remove_stopwords'] = True\n",
    "tp.replacer = replacer\n",
    "tp.fit(data['text'])"
   ]
  },
  {
   "cell_type": "code",
   "execution_count": 53,
   "metadata": {},
   "outputs": [
    {
     "data": {
      "text/plain": [
       "9885    [[Speaking, at, Tegucigalpa, 's, Military, Hospital, ,, President, Juan, Orlando, Hernández, thanked, his, medical, team, and, honored, the, victims, of, the, pandemic, in, his, country, .], [``, Many, think, this, i...\n",
       "720     [[But, the, transition, has, not, been, easy, for, retailers, who, depend, on, foot, traffic, .], [Ariel, Hujar, co-owns, the, boutique, clothing, and, home, good, shop, Whiskey, and, Leather, at, One, Paseo, .], [Sh...\n",
       "6793    [[and, confirmed, our, data, .], [They, said, they, would, send, someone, to, test, us, in, seven, days., ``], [Donning, PPE, ,, health, officials, came, to, their, home, ,, tested, the, two, of, them, and, left, imm...\n",
       "Name: text, dtype: object"
      ]
     },
     "execution_count": 53,
     "metadata": {},
     "output_type": "execute_result"
    }
   ],
   "source": [
    "tp.tokens.sample(3)"
   ]
  },
  {
   "cell_type": "code",
   "execution_count": 54,
   "metadata": {},
   "outputs": [
    {
     "name": "stdout",
     "output_type": "stream",
     "text": [
      "1/10. clean_upper...Completed.\n",
      "2/10. clean_title...Completed.\n",
      "3/10. clean_non_alpha...Completed.\n",
      "4/10. lower...Completed.\n",
      "5/10. remove_stopwords...Completed.\n",
      "6/10. replace_tokens...Completed.\n",
      "7/10. lemmatize...Completed.\n",
      "8/10. stem...Completed.\n",
      "9/10. flatten...Completed.\n",
      "10/10. reconstruct...Skipped.\n"
     ]
    }
   ],
   "source": [
    "X = tp.transform(remove_stopwords=True)"
   ]
  },
  {
   "cell_type": "code",
   "execution_count": 55,
   "metadata": {},
   "outputs": [
    {
     "data": {
      "text/plain": [
       "15673    [desper, tri, chang, subject, death, diseas, spread, across, countri, stick, finger, ear, shout, loudli, look, away, catastroph, mismanag, nation, challeng, earli, made, distast, habit, compar, perform, countri, disp...\n",
       "5206     [townhous, husband, employ, rent, coconut, vacat, paradis, dodg, front, resort, play, game, bocc, ball, buff, noon, wade, turquois, water, skinni, dip, encount, step, aboard, snorkel, catamaran, beach, <negation>, st...\n",
       "7082     [realli, want, messag, hit, home, respons, coordin, warn, yesterday, enter, new, phase, pandem, see, today, differ, extraordinarili, widespread, told, point, case, rise, urban, rural, area, far, million, infect, leas...\n",
       "Name: text, dtype: object"
      ]
     },
     "execution_count": 55,
     "metadata": {},
     "output_type": "execute_result"
    }
   ],
   "source": [
    "X.sample(3)"
   ]
  },
  {
   "cell_type": "code",
   "execution_count": 56,
   "metadata": {},
   "outputs": [
    {
     "data": {
      "text/plain": [
       "count    33324.000000\n",
       "mean        91.191724\n",
       "std         26.383199\n",
       "min          0.000000\n",
       "25%         73.000000\n",
       "50%         91.000000\n",
       "75%        108.000000\n",
       "max        271.000000\n",
       "Name: text, dtype: float64"
      ]
     },
     "execution_count": 56,
     "metadata": {},
     "output_type": "execute_result"
    }
   ],
   "source": [
    "X.apply(len).describe()"
   ]
  },
  {
   "cell_type": "code",
   "execution_count": 57,
   "metadata": {},
   "outputs": [
    {
     "data": {
      "image/png": "[encoded data removed]",
      "text/plain": [
       "<Figure size 864x288 with 1 Axes>"
      ]
     },
     "metadata": {},
     "output_type": "display_data"
    }
   ],
   "source": [
    "with plt.style.context('fivethirtyeight'):\n",
    "    plt.figure(figsize=(12, 4))\n",
    "    plt.hist(X.apply(len).values, bins=20, rwidth=0.95, density=False);\n",
    "    plt.xlabel(\"Number Of Tokens\")\n",
    "    plt.ylabel(\"Frequency\")\n",
    "    plt.title(\"Histogram of Tokens\");"
   ]
  },
  {
   "cell_type": "code",
   "execution_count": 58,
   "metadata": {},
   "outputs": [
    {
     "data": {
      "text/plain": [
       "36.0"
      ]
     },
     "execution_count": 58,
     "metadata": {},
     "output_type": "execute_result"
    }
   ],
   "source": [
    "drop_rows_when_tokens_less_than = X.apply(len).quantile(0.015)\n",
    "drop_rows_when_tokens_less_than"
   ]
  },
  {
   "cell_type": "code",
   "execution_count": 59,
   "metadata": {},
   "outputs": [
    {
     "data": {
      "text/plain": [
       "152.0"
      ]
     },
     "execution_count": 59,
     "metadata": {},
     "output_type": "execute_result"
    }
   ],
   "source": [
    "max_review_length = X.apply(len).quantile(0.985)\n",
    "max_review_length"
   ]
  },
  {
   "cell_type": "code",
   "execution_count": 60,
   "metadata": {},
   "outputs": [
    {
     "data": {
      "text/plain": [
       "32841"
      ]
     },
     "execution_count": 60,
     "metadata": {},
     "output_type": "execute_result"
    }
   ],
   "source": [
    "select = X.apply(len) >= drop_rows_when_tokens_less_than\n",
    "sum(select)"
   ]
  },
  {
   "cell_type": "code",
   "execution_count": 61,
   "metadata": {},
   "outputs": [],
   "source": [
    "X = X[select]\n",
    "y = data.sentiment[select]"
   ]
  },
  {
   "cell_type": "code",
   "execution_count": 62,
   "metadata": {},
   "outputs": [
    {
     "data": {
      "text/plain": [
       "(Int64Index([], dtype='int64'), Int64Index([], dtype='int64'))"
      ]
     },
     "execution_count": 62,
     "metadata": {},
     "output_type": "execute_result"
    }
   ],
   "source": [
    "y.index.difference(X.index), X.index.difference(y.index)"
   ]
  },
  {
   "cell_type": "code",
   "execution_count": 63,
   "metadata": {},
   "outputs": [
    {
     "data": {
      "text/plain": [
       "((32841,), (32841,))"
      ]
     },
     "execution_count": 63,
     "metadata": {},
     "output_type": "execute_result"
    }
   ],
   "source": [
    "X.shape, y.shape"
   ]
  },
  {
   "cell_type": "code",
   "execution_count": 64,
   "metadata": {},
   "outputs": [
    {
     "data": {
      "text/plain": [
       "0.6242806248287202"
      ]
     },
     "execution_count": 64,
     "metadata": {},
     "output_type": "execute_result"
    }
   ],
   "source": [
    "y.mean()"
   ]
  },
  {
   "cell_type": "markdown",
   "metadata": {},
   "source": [
    "### Vectorize"
   ]
  },
  {
   "cell_type": "code",
   "execution_count": 65,
   "metadata": {},
   "outputs": [],
   "source": [
    "vector = Vectorizer()"
   ]
  },
  {
   "cell_type": "code",
   "execution_count": 66,
   "metadata": {},
   "outputs": [
    {
     "data": {
      "text/plain": [
       "<TokenTransformer(sequences=(32841,), n_vocabulary=22073)>"
      ]
     },
     "execution_count": 66,
     "metadata": {},
     "output_type": "execute_result"
    }
   ],
   "source": [
    "vector.fit(X)"
   ]
  },
  {
   "cell_type": "code",
   "execution_count": 67,
   "metadata": {},
   "outputs": [
    {
     "data": {
      "text/plain": [
       "said          50237\n",
       "<negation>    28093\n",
       "peopl         22064\n",
       "state         16358\n",
       "case          15676\n",
       "              ...  \n",
       "swoosh            8\n",
       "investitur        8\n",
       "unclimb           8\n",
       "calfir            8\n",
       "mandarin          8\n",
       "Length: 9180, dtype: int64"
      ]
     },
     "execution_count": 67,
     "metadata": {},
     "output_type": "execute_result"
    }
   ],
   "source": [
    "freq = pd.Series(vector.freq_dist_descending) # 3.300.000 stopwords\n",
    "freq = freq[freq>=8]\n",
    "freq"
   ]
  },
  {
   "cell_type": "code",
   "execution_count": 68,
   "metadata": {},
   "outputs": [
    {
     "data": {
      "text/plain": [
       "said             1.0\n",
       "<negation>       2.0\n",
       "peopl            3.0\n",
       "state            4.0\n",
       "case             5.0\n",
       "               ...  \n",
       "swoosh        8981.5\n",
       "investitur    8981.5\n",
       "unclimb       8981.5\n",
       "calfir        8981.5\n",
       "mandarin      8981.5\n",
       "Length: 9180, dtype: float64"
      ]
     },
     "execution_count": 68,
     "metadata": {},
     "output_type": "execute_result"
    }
   ],
   "source": [
    "ranker = freq.rank(ascending=False)\n",
    "ranker"
   ]
  },
  {
   "cell_type": "code",
   "execution_count": 69,
   "metadata": {},
   "outputs": [],
   "source": [
    "def get_rank(tokenlist):\n",
    "    return [ranker[t] if t in ranker else 0.0 for t in tokenlist]"
   ]
  },
  {
   "cell_type": "code",
   "execution_count": 70,
   "metadata": {},
   "outputs": [],
   "source": [
    "# X_rank = X.apply(get_rank)\n",
    "X_rank = vector.transform(X)"
   ]
  },
  {
   "cell_type": "code",
   "execution_count": 71,
   "metadata": {},
   "outputs": [],
   "source": [
    "max_review_length = int(X.apply(len).quantile(0.985))\n",
    "X_seq = keras.preprocessing.sequence.pad_sequences(X_rank, maxlen=max_review_length)"
   ]
  },
  {
   "cell_type": "code",
   "execution_count": 72,
   "metadata": {},
   "outputs": [],
   "source": [
    "X_train, X_test, y_train, y_test = train_test_split(X_seq, y, test_size=0.33, random_state=0)"
   ]
  },
  {
   "cell_type": "code",
   "execution_count": 79,
   "metadata": {},
   "outputs": [
    {
     "data": {
      "text/plain": [
       "((22003, 152), (22003,), (10838, 152), (10838,))"
      ]
     },
     "execution_count": 79,
     "metadata": {},
     "output_type": "execute_result"
    }
   ],
   "source": [
    "X_train.shape, y_train.shape, X_test.shape, y_test.shape"
   ]
  },
  {
   "cell_type": "code",
   "execution_count": 74,
   "metadata": {},
   "outputs": [
    {
     "data": {
      "text/plain": [
       "9180"
      ]
     },
     "execution_count": 74,
     "metadata": {},
     "output_type": "execute_result"
    }
   ],
   "source": [
    "len(ranker)"
   ]
  },
  {
   "cell_type": "markdown",
   "metadata": {},
   "source": [
    "###  Models Creation"
   ]
  },
  {
   "cell_type": "code",
   "execution_count": null,
   "metadata": {},
   "outputs": [],
   "source": [
    "embedding_vector_length = 64\n",
    "\n",
    "embedding = dict(input_dim = vector.n_vocabulary+1, \n",
    "                 output_dim = embedding_vector_length, \n",
    "                 input_length = max_review_length)\n",
    "\n",
    "conv1d = dict(filters=16, \n",
    "              kernel_size=3, \n",
    "              padding='same', \n",
    "              activation='relu')\n",
    "\n",
    "lstm_kw = dict(units=32)\n",
    "\n",
    "callbacks = [keras.callbacks.EarlyStopping(patience=3, restore_best_weights=True, verbose=1)]"
   ]
  },
  {
   "cell_type": "code",
   "execution_count": 145,
   "metadata": {},
   "outputs": [
    {
     "name": "stdout",
     "output_type": "stream",
     "text": [
      "Model: \"sequential_132\"\n",
      "_________________________________________________________________\n",
      "Layer (type)                 Output Shape              Param #   \n",
      "=================================================================\n",
      "embedding_132 (Embedding)    (None, 152, 64)           1412736   \n",
      "_________________________________________________________________\n",
      "dropout_392 (Dropout)        (None, 152, 64)           0         \n",
      "_________________________________________________________________\n",
      "conv1d_131 (Conv1D)          (None, 152, 16)           3088      \n",
      "_________________________________________________________________\n",
      "max_pooling1d_131 (MaxPoolin (None, 76, 16)            0         \n",
      "_________________________________________________________________\n",
      "dropout_393 (Dropout)        (None, 76, 16)            0         \n",
      "_________________________________________________________________\n",
      "lstm_131 (LSTM)              (None, 32)                6272      \n",
      "_________________________________________________________________\n",
      "dropout_394 (Dropout)        (None, 32)                0         \n",
      "_________________________________________________________________\n",
      "dense_131 (Dense)            (None, 1)                 33        \n",
      "=================================================================\n",
      "Total params: 1,422,129\n",
      "Trainable params: 1,422,129\n",
      "Non-trainable params: 0\n",
      "_________________________________________________________________\n"
     ]
    }
   ],
   "source": [
    "create_model(embedding, conv1d, lstm_kw).summary()"
   ]
  },
  {
   "cell_type": "code",
   "execution_count": 94,
   "metadata": {},
   "outputs": [
    {
     "name": "stdout",
     "output_type": "stream",
     "text": [
      "Training batch: 16\n"
     ]
    },
    {
     "name": "stderr",
     "output_type": "stream",
     "text": [
      "C:\\Users\\yiorg\\anaconda3\\envs\\dl\\lib\\site-packages\\tensorflow_core\\python\\framework\\indexed_slices.py:433: UserWarning: Converting sparse IndexedSlices to a dense Tensor of unknown shape. This may consume a large amount of memory.\n",
      "  \"Converting sparse IndexedSlices to a dense Tensor of unknown shape. \"\n",
      "C:\\Users\\yiorg\\anaconda3\\envs\\dl\\lib\\site-packages\\tensorflow_core\\python\\framework\\indexed_slices.py:433: UserWarning: Converting sparse IndexedSlices to a dense Tensor of unknown shape. This may consume a large amount of memory.\n",
      "  \"Converting sparse IndexedSlices to a dense Tensor of unknown shape. \"\n"
     ]
    },
    {
     "name": "stdout",
     "output_type": "stream",
     "text": [
      "\t\tlstm_acc: 0.8938918709754944, blstm_acc: 0.8950913548469543\n",
      "Training batch: 32\n"
     ]
    },
    {
     "name": "stderr",
     "output_type": "stream",
     "text": [
      "C:\\Users\\yiorg\\anaconda3\\envs\\dl\\lib\\site-packages\\tensorflow_core\\python\\framework\\indexed_slices.py:433: UserWarning: Converting sparse IndexedSlices to a dense Tensor of unknown shape. This may consume a large amount of memory.\n",
      "  \"Converting sparse IndexedSlices to a dense Tensor of unknown shape. \"\n",
      "C:\\Users\\yiorg\\anaconda3\\envs\\dl\\lib\\site-packages\\tensorflow_core\\python\\framework\\indexed_slices.py:433: UserWarning: Converting sparse IndexedSlices to a dense Tensor of unknown shape. This may consume a large amount of memory.\n",
      "  \"Converting sparse IndexedSlices to a dense Tensor of unknown shape. \"\n"
     ]
    },
    {
     "name": "stdout",
     "output_type": "stream",
     "text": [
      "\t\tlstm_acc: 0.8965676426887512, blstm_acc: 0.8926923871040344\n",
      "Training batch: 64\n"
     ]
    },
    {
     "name": "stderr",
     "output_type": "stream",
     "text": [
      "C:\\Users\\yiorg\\anaconda3\\envs\\dl\\lib\\site-packages\\tensorflow_core\\python\\framework\\indexed_slices.py:433: UserWarning: Converting sparse IndexedSlices to a dense Tensor of unknown shape. This may consume a large amount of memory.\n",
      "  \"Converting sparse IndexedSlices to a dense Tensor of unknown shape. \"\n",
      "C:\\Users\\yiorg\\anaconda3\\envs\\dl\\lib\\site-packages\\tensorflow_core\\python\\framework\\indexed_slices.py:433: UserWarning: Converting sparse IndexedSlices to a dense Tensor of unknown shape. This may consume a large amount of memory.\n",
      "  \"Converting sparse IndexedSlices to a dense Tensor of unknown shape. \"\n"
     ]
    },
    {
     "name": "stdout",
     "output_type": "stream",
     "text": [
      "\t\tlstm_acc: 0.8909392952919006, blstm_acc: 0.8930614590644836\n",
      "Training batch: 128\n"
     ]
    },
    {
     "name": "stderr",
     "output_type": "stream",
     "text": [
      "C:\\Users\\yiorg\\anaconda3\\envs\\dl\\lib\\site-packages\\tensorflow_core\\python\\framework\\indexed_slices.py:433: UserWarning: Converting sparse IndexedSlices to a dense Tensor of unknown shape. This may consume a large amount of memory.\n",
      "  \"Converting sparse IndexedSlices to a dense Tensor of unknown shape. \"\n",
      "C:\\Users\\yiorg\\anaconda3\\envs\\dl\\lib\\site-packages\\tensorflow_core\\python\\framework\\indexed_slices.py:433: UserWarning: Converting sparse IndexedSlices to a dense Tensor of unknown shape. This may consume a large amount of memory.\n",
      "  \"Converting sparse IndexedSlices to a dense Tensor of unknown shape. \"\n"
     ]
    },
    {
     "name": "stdout",
     "output_type": "stream",
     "text": [
      "\t\tlstm_acc: 0.8954604268074036, blstm_acc: 0.8890939354896545\n",
      "Training batch: 256\n"
     ]
    },
    {
     "name": "stderr",
     "output_type": "stream",
     "text": [
      "C:\\Users\\yiorg\\anaconda3\\envs\\dl\\lib\\site-packages\\tensorflow_core\\python\\framework\\indexed_slices.py:433: UserWarning: Converting sparse IndexedSlices to a dense Tensor of unknown shape. This may consume a large amount of memory.\n",
      "  \"Converting sparse IndexedSlices to a dense Tensor of unknown shape. \"\n",
      "C:\\Users\\yiorg\\anaconda3\\envs\\dl\\lib\\site-packages\\tensorflow_core\\python\\framework\\indexed_slices.py:433: UserWarning: Converting sparse IndexedSlices to a dense Tensor of unknown shape. This may consume a large amount of memory.\n",
      "  \"Converting sparse IndexedSlices to a dense Tensor of unknown shape. \"\n"
     ]
    },
    {
     "name": "stdout",
     "output_type": "stream",
     "text": [
      "\t\tlstm_acc: 0.8881712555885315, blstm_acc: 0.8884480595588684\n",
      "Training batch: 512\n"
     ]
    },
    {
     "name": "stderr",
     "output_type": "stream",
     "text": [
      "C:\\Users\\yiorg\\anaconda3\\envs\\dl\\lib\\site-packages\\tensorflow_core\\python\\framework\\indexed_slices.py:433: UserWarning: Converting sparse IndexedSlices to a dense Tensor of unknown shape. This may consume a large amount of memory.\n",
      "  \"Converting sparse IndexedSlices to a dense Tensor of unknown shape. \"\n",
      "C:\\Users\\yiorg\\anaconda3\\envs\\dl\\lib\\site-packages\\tensorflow_core\\python\\framework\\indexed_slices.py:433: UserWarning: Converting sparse IndexedSlices to a dense Tensor of unknown shape. This may consume a large amount of memory.\n",
      "  \"Converting sparse IndexedSlices to a dense Tensor of unknown shape. \"\n"
     ]
    },
    {
     "name": "stdout",
     "output_type": "stream",
     "text": [
      "\t\tlstm_acc: 0.8866949677467346, blstm_acc: 0.8868795037269592\n"
     ]
    }
   ],
   "source": [
    "hl_batch, hb_batch = {}, {}\n",
    "for batch_size in [16, 32, 64, 128, 256, 512]:\n",
    "    print(\"Training batch:\", batch_size)\n",
    "    lstm = create_model(embedding, conv1d, lstm_kw, \n",
    "                        dropout_after_embedding=0.0,\n",
    "                        dropout_after_conv1d=0.0,\n",
    "                        dropout_after_lstm=0.0, \n",
    "                        bidirectional=False)\n",
    "    blstm = create_model(embedding, conv1d, lstm_kw, \n",
    "                         dropout_after_embedding=0.0,\n",
    "                         dropout_after_conv1d=0.0,\n",
    "                         dropout_after_lstm=0.0,\n",
    "                         bidirectional=True)\n",
    "    hl = lstm.fit(X_train, y_train, batch_size=batch_size, epochs=5, validation_data=(X_test, y_test), verbose=0)\n",
    "    hb = blstm.fit(X_train, y_train, batch_size=batch_size, epochs=5, validation_data=(X_test, y_test), verbose=0)  \n",
    "    hl_acc, hb_acc = max(hl.history['val_accuracy']), max(hb.history['val_accuracy'])\n",
    "    hl_batch[batch_size] = hl_acc\n",
    "    hb_batch[batch_size] = hb_acc\n",
    "    print(f\"\\t\\tlstm_acc: {hl_acc}, blstm_acc: {hb_acc}\")"
   ]
  },
  {
   "cell_type": "code",
   "execution_count": 97,
   "metadata": {},
   "outputs": [],
   "source": [
    "pd.to_pickle(hl_batch, 'hl_batch.pkl')\n",
    "pd.to_pickle(hb_batch, 'hb_batch.pkl')"
   ]
  },
  {
   "cell_type": "code",
   "execution_count": 98,
   "metadata": {},
   "outputs": [],
   "source": [
    "hl_batch = pd.Series(hl_batch)\n",
    "hb_batch = pd.Series(hb_batch)"
   ]
  },
  {
   "cell_type": "code",
   "execution_count": 99,
   "metadata": {},
   "outputs": [
    {
     "data": {
      "text/html": [
       "<div>\n",
       "<style scoped>\n",
       "    .dataframe tbody tr th:only-of-type {\n",
       "        vertical-align: middle;\n",
       "    }\n",
       "\n",
       "    .dataframe tbody tr th {\n",
       "        vertical-align: top;\n",
       "    }\n",
       "\n",
       "    .dataframe thead th {\n",
       "        text-align: right;\n",
       "    }\n",
       "</style>\n",
       "<table border=\"1\" class=\"dataframe\">\n",
       "  <thead>\n",
       "    <tr style=\"text-align: right;\">\n",
       "      <th></th>\n",
       "      <th>blstm_acc</th>\n",
       "      <th>lstm_acc</th>\n",
       "      <th>blstm_acc_rollmean3</th>\n",
       "      <th>lstm_acc_rollmean3</th>\n",
       "    </tr>\n",
       "  </thead>\n",
       "  <tbody>\n",
       "    <tr>\n",
       "      <th>16</th>\n",
       "      <td>0.895091</td>\n",
       "      <td>0.893892</td>\n",
       "      <td>NaN</td>\n",
       "      <td>NaN</td>\n",
       "    </tr>\n",
       "    <tr>\n",
       "      <th>32</th>\n",
       "      <td>0.892692</td>\n",
       "      <td>0.896568</td>\n",
       "      <td>NaN</td>\n",
       "      <td>NaN</td>\n",
       "    </tr>\n",
       "    <tr>\n",
       "      <th>64</th>\n",
       "      <td>0.893061</td>\n",
       "      <td>0.890939</td>\n",
       "      <td>0.893615</td>\n",
       "      <td>0.893800</td>\n",
       "    </tr>\n",
       "    <tr>\n",
       "      <th>128</th>\n",
       "      <td>0.889094</td>\n",
       "      <td>0.895460</td>\n",
       "      <td>0.891616</td>\n",
       "      <td>0.894322</td>\n",
       "    </tr>\n",
       "    <tr>\n",
       "      <th>256</th>\n",
       "      <td>0.888448</td>\n",
       "      <td>0.888171</td>\n",
       "      <td>0.890201</td>\n",
       "      <td>0.891524</td>\n",
       "    </tr>\n",
       "    <tr>\n",
       "      <th>512</th>\n",
       "      <td>0.886880</td>\n",
       "      <td>0.886695</td>\n",
       "      <td>0.888140</td>\n",
       "      <td>0.890109</td>\n",
       "    </tr>\n",
       "  </tbody>\n",
       "</table>\n",
       "</div>"
      ],
      "text/plain": [
       "     blstm_acc  lstm_acc  blstm_acc_rollmean3  lstm_acc_rollmean3\n",
       "16    0.895091  0.893892                  NaN                 NaN\n",
       "32    0.892692  0.896568                  NaN                 NaN\n",
       "64    0.893061  0.890939             0.893615            0.893800\n",
       "128   0.889094  0.895460             0.891616            0.894322\n",
       "256   0.888448  0.888171             0.890201            0.891524\n",
       "512   0.886880  0.886695             0.888140            0.890109"
      ]
     },
     "execution_count": 99,
     "metadata": {},
     "output_type": "execute_result"
    }
   ],
   "source": [
    "batch_acc = pd.DataFrame({'blstm_acc':hb_batch, 'lstm_acc':hl_batch})\n",
    "batch_acc = batch_acc.join(batch_acc.rolling(3).mean(), rsuffix='_rollmean3')\n",
    "batch_acc"
   ]
  },
  {
   "cell_type": "code",
   "execution_count": 100,
   "metadata": {},
   "outputs": [
    {
     "data": {
      "image/png": "[encoded data removed]",
      "text/plain": [
       "<Figure size 864x288 with 1 Axes>"
      ]
     },
     "metadata": {
      "needs_background": "light"
     },
     "output_type": "display_data"
    }
   ],
   "source": [
    "plt.figure(figsize=(12, 4))\n",
    "hl_batch.plot(label='lstm', marker='o')\n",
    "hb_batch.plot(label='blstm', marker='*')\n",
    "plt.legend(fancybox=True, shadow=True)\n",
    "plt.grid()\n",
    "plt.xlabel(\"batch size\")\n",
    "plt.ylabel(\"accuracy\")\n",
    "plt.title(\"Batch Size VS Accuracy\");"
   ]
  },
  {
   "cell_type": "code",
   "execution_count": 101,
   "metadata": {},
   "outputs": [
    {
     "name": "stdout",
     "output_type": "stream",
     "text": [
      "Training drop_embed: 0.1\n"
     ]
    },
    {
     "name": "stderr",
     "output_type": "stream",
     "text": [
      "C:\\Users\\yiorg\\anaconda3\\envs\\dl\\lib\\site-packages\\tensorflow_core\\python\\framework\\indexed_slices.py:433: UserWarning: Converting sparse IndexedSlices to a dense Tensor of unknown shape. This may consume a large amount of memory.\n",
      "  \"Converting sparse IndexedSlices to a dense Tensor of unknown shape. \"\n",
      "C:\\Users\\yiorg\\anaconda3\\envs\\dl\\lib\\site-packages\\tensorflow_core\\python\\framework\\indexed_slices.py:433: UserWarning: Converting sparse IndexedSlices to a dense Tensor of unknown shape. This may consume a large amount of memory.\n",
      "  \"Converting sparse IndexedSlices to a dense Tensor of unknown shape. \"\n"
     ]
    },
    {
     "name": "stdout",
     "output_type": "stream",
     "text": [
      "\t\tlstm_acc: 0.8935227990150452, blstm_acc: 0.8917697072029114\n",
      "Training drop_embed: 0.25\n"
     ]
    },
    {
     "name": "stderr",
     "output_type": "stream",
     "text": [
      "C:\\Users\\yiorg\\anaconda3\\envs\\dl\\lib\\site-packages\\tensorflow_core\\python\\framework\\indexed_slices.py:433: UserWarning: Converting sparse IndexedSlices to a dense Tensor of unknown shape. This may consume a large amount of memory.\n",
      "  \"Converting sparse IndexedSlices to a dense Tensor of unknown shape. \"\n",
      "C:\\Users\\yiorg\\anaconda3\\envs\\dl\\lib\\site-packages\\tensorflow_core\\python\\framework\\indexed_slices.py:433: UserWarning: Converting sparse IndexedSlices to a dense Tensor of unknown shape. This may consume a large amount of memory.\n",
      "  \"Converting sparse IndexedSlices to a dense Tensor of unknown shape. \"\n"
     ]
    },
    {
     "name": "stdout",
     "output_type": "stream",
     "text": [
      "\t\tlstm_acc: 0.8961063027381897, blstm_acc: 0.8960140347480774\n",
      "Training drop_embed: 0.5\n"
     ]
    },
    {
     "name": "stderr",
     "output_type": "stream",
     "text": [
      "C:\\Users\\yiorg\\anaconda3\\envs\\dl\\lib\\site-packages\\tensorflow_core\\python\\framework\\indexed_slices.py:433: UserWarning: Converting sparse IndexedSlices to a dense Tensor of unknown shape. This may consume a large amount of memory.\n",
      "  \"Converting sparse IndexedSlices to a dense Tensor of unknown shape. \"\n",
      "C:\\Users\\yiorg\\anaconda3\\envs\\dl\\lib\\site-packages\\tensorflow_core\\python\\framework\\indexed_slices.py:433: UserWarning: Converting sparse IndexedSlices to a dense Tensor of unknown shape. This may consume a large amount of memory.\n",
      "  \"Converting sparse IndexedSlices to a dense Tensor of unknown shape. \"\n"
     ]
    },
    {
     "name": "stdout",
     "output_type": "stream",
     "text": [
      "\t\tlstm_acc: 0.8976748585700989, blstm_acc: 0.8939841389656067\n",
      "Training drop_embed: 0.75\n",
      "WARNING:tensorflow:Large dropout rate: 0.75 (>0.5). In TensorFlow 2.x, dropout() uses dropout rate instead of keep_prob. Please ensure that this is intended.\n",
      "WARNING:tensorflow:Large dropout rate: 0.75 (>0.5). In TensorFlow 2.x, dropout() uses dropout rate instead of keep_prob. Please ensure that this is intended.\n"
     ]
    },
    {
     "name": "stderr",
     "output_type": "stream",
     "text": [
      "C:\\Users\\yiorg\\anaconda3\\envs\\dl\\lib\\site-packages\\tensorflow_core\\python\\framework\\indexed_slices.py:433: UserWarning: Converting sparse IndexedSlices to a dense Tensor of unknown shape. This may consume a large amount of memory.\n",
      "  \"Converting sparse IndexedSlices to a dense Tensor of unknown shape. \"\n",
      "C:\\Users\\yiorg\\anaconda3\\envs\\dl\\lib\\site-packages\\tensorflow_core\\python\\framework\\indexed_slices.py:433: UserWarning: Converting sparse IndexedSlices to a dense Tensor of unknown shape. This may consume a large amount of memory.\n",
      "  \"Converting sparse IndexedSlices to a dense Tensor of unknown shape. \"\n"
     ]
    },
    {
     "name": "stdout",
     "output_type": "stream",
     "text": [
      "\t\tlstm_acc: 0.8914929032325745, blstm_acc: 0.8946300148963928\n"
     ]
    }
   ],
   "source": [
    "hl_embed, hb_embed = {}, {}\n",
    "for n_embed in [0.10, 0.25, 0.50, 0.75]:\n",
    "    print(\"Training drop_embed:\", n_embed)\n",
    "    lstm = create_model(embedding, conv1d, lstm_kw, \n",
    "                        dropout_after_embedding=n_embed,\n",
    "                        dropout_after_conv1d=0.0,\n",
    "                        dropout_after_lstm=0.0, \n",
    "                        bidirectional=False)\n",
    "    blstm = create_model(embedding, conv1d, lstm_kw, \n",
    "                         dropout_after_embedding=n_embed,\n",
    "                         dropout_after_conv1d=0.0,\n",
    "                         dropout_after_lstm=0.0,\n",
    "                         bidirectional=True)\n",
    "    hl = lstm.fit(X_train, y_train, batch_size=64, epochs=5, validation_data=(X_test, y_test), verbose=0)\n",
    "    hb = blstm.fit(X_train, y_train, batch_size=64, epochs=5, validation_data=(X_test, y_test), verbose=0)  \n",
    "    hl_acc, hb_acc = max(hl.history['val_accuracy']), max(hb.history['val_accuracy'])\n",
    "    hl_embed[n_embed] = hl_acc\n",
    "    hb_embed[n_embed] = hb_acc\n",
    "    print(f\"\\t\\tlstm_acc: {hl_acc}, blstm_acc: {hb_acc}\")"
   ]
  },
  {
   "cell_type": "code",
   "execution_count": null,
   "metadata": {},
   "outputs": [],
   "source": [
    "hl_embed = pd.Series(hl_embed, name='lstm_acc')\n",
    "hb_embed = pd.Series(hb_embed, name='blstm_acc')\n",
    "\n",
    "pd.to_pickle(hl_embed, \"hl_embed.pkl\")\n",
    "pd.to_pickle(hb_embed, \"hb_embed.pkl\")"
   ]
  },
  {
   "cell_type": "code",
   "execution_count": 106,
   "metadata": {},
   "outputs": [
    {
     "data": {
      "text/html": [
       "<div>\n",
       "<style scoped>\n",
       "    .dataframe tbody tr th:only-of-type {\n",
       "        vertical-align: middle;\n",
       "    }\n",
       "\n",
       "    .dataframe tbody tr th {\n",
       "        vertical-align: top;\n",
       "    }\n",
       "\n",
       "    .dataframe thead th {\n",
       "        text-align: right;\n",
       "    }\n",
       "</style>\n",
       "<table border=\"1\" class=\"dataframe\">\n",
       "  <thead>\n",
       "    <tr style=\"text-align: right;\">\n",
       "      <th></th>\n",
       "      <th>lstm</th>\n",
       "      <th>blstm</th>\n",
       "    </tr>\n",
       "  </thead>\n",
       "  <tbody>\n",
       "    <tr>\n",
       "      <th>0.10</th>\n",
       "      <td>0.893523</td>\n",
       "      <td>0.891770</td>\n",
       "    </tr>\n",
       "    <tr>\n",
       "      <th>0.25</th>\n",
       "      <td>0.896106</td>\n",
       "      <td>0.896014</td>\n",
       "    </tr>\n",
       "    <tr>\n",
       "      <th>0.50</th>\n",
       "      <td>0.897675</td>\n",
       "      <td>0.893984</td>\n",
       "    </tr>\n",
       "    <tr>\n",
       "      <th>0.75</th>\n",
       "      <td>0.891493</td>\n",
       "      <td>0.894630</td>\n",
       "    </tr>\n",
       "  </tbody>\n",
       "</table>\n",
       "</div>"
      ],
      "text/plain": [
       "          lstm     blstm\n",
       "0.10  0.893523  0.891770\n",
       "0.25  0.896106  0.896014\n",
       "0.50  0.897675  0.893984\n",
       "0.75  0.891493  0.894630"
      ]
     },
     "execution_count": 106,
     "metadata": {},
     "output_type": "execute_result"
    }
   ],
   "source": [
    "pd.DataFrame({'lstm':hl_embed, 'blstm':hb_embed})"
   ]
  },
  {
   "cell_type": "code",
   "execution_count": 105,
   "metadata": {},
   "outputs": [
    {
     "data": {
      "image/png": "[encoded data removed]",
      "text/plain": [
       "<Figure size 864x288 with 1 Axes>"
      ]
     },
     "metadata": {
      "needs_background": "light"
     },
     "output_type": "display_data"
    }
   ],
   "source": [
    "plt.figure(figsize=(12, 4))\n",
    "hl_embed.plot(label='lstm', marker='o')\n",
    "hb_embed.plot(label='blstm', marker='*')\n",
    "plt.legend(fancybox=True, shadow=True)\n",
    "plt.grid()\n",
    "plt.xlabel(\"embedding dropout\")\n",
    "plt.ylabel(\"accuracy\")\n",
    "plt.title(\"Embedding Dropout VS Accuracy\");"
   ]
  },
  {
   "cell_type": "code",
   "execution_count": 112,
   "metadata": {},
   "outputs": [
    {
     "name": "stderr",
     "output_type": "stream",
     "text": [
      "C:\\Users\\yiorg\\anaconda3\\envs\\dl\\lib\\site-packages\\tensorflow_core\\python\\framework\\indexed_slices.py:433: UserWarning: Converting sparse IndexedSlices to a dense Tensor of unknown shape. This may consume a large amount of memory.\n",
      "  \"Converting sparse IndexedSlices to a dense Tensor of unknown shape. \"\n"
     ]
    },
    {
     "name": "stdout",
     "output_type": "stream",
     "text": [
      "Train on 22003 samples, validate on 10838 samples\n",
      "Epoch 1/5\n",
      "22003/22003 [==============================] - 28s 1ms/step - loss: 0.4527 - accuracy: 0.7785 - val_loss: 0.2957 - val_accuracy: 0.8740\n",
      "Epoch 2/5\n",
      "22003/22003 [==============================] - 26s 1ms/step - loss: 0.2178 - accuracy: 0.9133 - val_loss: 0.2621 - val_accuracy: 0.8916\n",
      "Epoch 3/5\n",
      "22003/22003 [==============================] - 26s 1ms/step - loss: 0.1545 - accuracy: 0.9429 - val_loss: 0.2686 - val_accuracy: 0.8896\n",
      "Epoch 4/5\n",
      "22003/22003 [==============================] - 27s 1ms/step - loss: 0.1156 - accuracy: 0.9581 - val_loss: 0.2880 - val_accuracy: 0.8918\n",
      "Epoch 5/5\n",
      "22003/22003 [==============================] - 29s 1ms/step - loss: 0.0927 - accuracy: 0.9670 - val_loss: 0.3188 - val_accuracy: 0.8887\n"
     ]
    },
    {
     "name": "stderr",
     "output_type": "stream",
     "text": [
      "C:\\Users\\yiorg\\anaconda3\\envs\\dl\\lib\\site-packages\\tensorflow_core\\python\\framework\\indexed_slices.py:433: UserWarning: Converting sparse IndexedSlices to a dense Tensor of unknown shape. This may consume a large amount of memory.\n",
      "  \"Converting sparse IndexedSlices to a dense Tensor of unknown shape. \"\n"
     ]
    },
    {
     "name": "stdout",
     "output_type": "stream",
     "text": [
      "Train on 22003 samples, validate on 10838 samples\n",
      "Epoch 1/5\n",
      "22003/22003 [==============================] - 36s 2ms/step - loss: 0.4488 - accuracy: 0.7805 - val_loss: 0.2753 - val_accuracy: 0.8846\n",
      "Epoch 2/5\n",
      "22003/22003 [==============================] - 37s 2ms/step - loss: 0.2167 - accuracy: 0.9143 - val_loss: 0.2623 - val_accuracy: 0.8882\n",
      "Epoch 3/5\n",
      "22003/22003 [==============================] - 36s 2ms/step - loss: 0.1515 - accuracy: 0.9438 - val_loss: 0.2758 - val_accuracy: 0.8895\n",
      "Epoch 4/5\n",
      "22003/22003 [==============================] - 36s 2ms/step - loss: 0.1160 - accuracy: 0.9583 - val_loss: 0.2771 - val_accuracy: 0.8935\n",
      "Epoch 5/5\n",
      "22003/22003 [==============================] - 36s 2ms/step - loss: 0.0893 - accuracy: 0.9681 - val_loss: 0.3066 - val_accuracy: 0.8901\n"
     ]
    },
    {
     "name": "stderr",
     "output_type": "stream",
     "text": [
      "C:\\Users\\yiorg\\anaconda3\\envs\\dl\\lib\\site-packages\\tensorflow_core\\python\\framework\\indexed_slices.py:433: UserWarning: Converting sparse IndexedSlices to a dense Tensor of unknown shape. This may consume a large amount of memory.\n",
      "  \"Converting sparse IndexedSlices to a dense Tensor of unknown shape. \"\n"
     ]
    },
    {
     "name": "stdout",
     "output_type": "stream",
     "text": [
      "Train on 22003 samples, validate on 10838 samples\n",
      "Epoch 1/5\n",
      "22003/22003 [==============================] - 30s 1ms/step - loss: 0.4495 - accuracy: 0.7797 - val_loss: 0.2897 - val_accuracy: 0.8744\n",
      "Epoch 2/5\n",
      "22003/22003 [==============================] - 29s 1ms/step - loss: 0.2251 - accuracy: 0.9110 - val_loss: 0.2577 - val_accuracy: 0.8894\n",
      "Epoch 3/5\n",
      "22003/22003 [==============================] - 29s 1ms/step - loss: 0.1607 - accuracy: 0.9379 - val_loss: 0.2585 - val_accuracy: 0.8968\n",
      "Epoch 4/5\n",
      "22003/22003 [==============================] - 29s 1ms/step - loss: 0.1178 - accuracy: 0.9569 - val_loss: 0.2835 - val_accuracy: 0.8926\n",
      "Epoch 5/5\n",
      "22003/22003 [==============================] - 29s 1ms/step - loss: 0.0998 - accuracy: 0.9632 - val_loss: 0.2984 - val_accuracy: 0.8895\n"
     ]
    },
    {
     "name": "stderr",
     "output_type": "stream",
     "text": [
      "C:\\Users\\yiorg\\anaconda3\\envs\\dl\\lib\\site-packages\\tensorflow_core\\python\\framework\\indexed_slices.py:433: UserWarning: Converting sparse IndexedSlices to a dense Tensor of unknown shape. This may consume a large amount of memory.\n",
      "  \"Converting sparse IndexedSlices to a dense Tensor of unknown shape. \"\n"
     ]
    },
    {
     "name": "stdout",
     "output_type": "stream",
     "text": [
      "Train on 22003 samples, validate on 10838 samples\n",
      "Epoch 1/5\n",
      "22003/22003 [==============================] - 35s 2ms/step - loss: 0.4633 - accuracy: 0.7711 - val_loss: 0.3099 - val_accuracy: 0.8702\n",
      "Epoch 2/5\n",
      "22003/22003 [==============================] - 31s 1ms/step - loss: 0.2326 - accuracy: 0.9088 - val_loss: 0.2666 - val_accuracy: 0.8870\n",
      "Epoch 3/5\n",
      "22003/22003 [==============================] - 32s 1ms/step - loss: 0.1658 - accuracy: 0.9368 - val_loss: 0.2872 - val_accuracy: 0.8798\n",
      "Epoch 4/5\n",
      "22003/22003 [==============================] - 31s 1ms/step - loss: 0.1285 - accuracy: 0.9522 - val_loss: 0.3197 - val_accuracy: 0.8911\n",
      "Epoch 5/5\n",
      "22003/22003 [==============================] - 31s 1ms/step - loss: 0.1047 - accuracy: 0.9613 - val_loss: 0.3686 - val_accuracy: 0.8666\n"
     ]
    },
    {
     "name": "stderr",
     "output_type": "stream",
     "text": [
      "C:\\Users\\yiorg\\anaconda3\\envs\\dl\\lib\\site-packages\\tensorflow_core\\python\\framework\\indexed_slices.py:433: UserWarning: Converting sparse IndexedSlices to a dense Tensor of unknown shape. This may consume a large amount of memory.\n",
      "  \"Converting sparse IndexedSlices to a dense Tensor of unknown shape. \"\n"
     ]
    },
    {
     "name": "stdout",
     "output_type": "stream",
     "text": [
      "Train on 22003 samples, validate on 10838 samples\n",
      "Epoch 1/5\n",
      "22003/22003 [==============================] - 26s 1ms/step - loss: 0.4542 - accuracy: 0.7723 - val_loss: 0.2873 - val_accuracy: 0.8806\n",
      "Epoch 2/5\n",
      "22003/22003 [==============================] - 25s 1ms/step - loss: 0.2297 - accuracy: 0.9080 - val_loss: 0.2553 - val_accuracy: 0.8939\n",
      "Epoch 3/5\n",
      "22003/22003 [==============================] - 26s 1ms/step - loss: 0.1662 - accuracy: 0.9362 - val_loss: 0.2678 - val_accuracy: 0.8911\n",
      "Epoch 4/5\n",
      "22003/22003 [==============================] - 27s 1ms/step - loss: 0.1278 - accuracy: 0.9533 - val_loss: 0.2767 - val_accuracy: 0.8934\n",
      "Epoch 5/5\n",
      "22003/22003 [==============================] - 25s 1ms/step - loss: 0.1097 - accuracy: 0.9586 - val_loss: 0.3190 - val_accuracy: 0.8813\n"
     ]
    },
    {
     "name": "stderr",
     "output_type": "stream",
     "text": [
      "C:\\Users\\yiorg\\anaconda3\\envs\\dl\\lib\\site-packages\\tensorflow_core\\python\\framework\\indexed_slices.py:433: UserWarning: Converting sparse IndexedSlices to a dense Tensor of unknown shape. This may consume a large amount of memory.\n",
      "  \"Converting sparse IndexedSlices to a dense Tensor of unknown shape. \"\n"
     ]
    },
    {
     "name": "stdout",
     "output_type": "stream",
     "text": [
      "Train on 22003 samples, validate on 10838 samples\n",
      "Epoch 1/5\n",
      "22003/22003 [==============================] - 31s 1ms/step - loss: 0.4869 - accuracy: 0.7547 - val_loss: 0.3738 - val_accuracy: 0.8321\n",
      "Epoch 2/5\n",
      "22003/22003 [==============================] - 31s 1ms/step - loss: 0.2353 - accuracy: 0.9044 - val_loss: 0.2666 - val_accuracy: 0.8893\n",
      "Epoch 3/5\n",
      "22003/22003 [==============================] - 30s 1ms/step - loss: 0.1716 - accuracy: 0.9327 - val_loss: 0.2505 - val_accuracy: 0.9008\n",
      "Epoch 4/5\n",
      "22003/22003 [==============================] - 30s 1ms/step - loss: 0.1343 - accuracy: 0.9501 - val_loss: 0.2804 - val_accuracy: 0.8945\n",
      "Epoch 5/5\n",
      "22003/22003 [==============================] - 31s 1ms/step - loss: 0.1094 - accuracy: 0.9591 - val_loss: 0.2945 - val_accuracy: 0.8915\n"
     ]
    },
    {
     "name": "stderr",
     "output_type": "stream",
     "text": [
      "C:\\Users\\yiorg\\anaconda3\\envs\\dl\\lib\\site-packages\\tensorflow_core\\python\\framework\\indexed_slices.py:433: UserWarning: Converting sparse IndexedSlices to a dense Tensor of unknown shape. This may consume a large amount of memory.\n",
      "  \"Converting sparse IndexedSlices to a dense Tensor of unknown shape. \"\n"
     ]
    },
    {
     "name": "stdout",
     "output_type": "stream",
     "text": [
      "Train on 22003 samples, validate on 10838 samples\n",
      "Epoch 1/5\n",
      "22003/22003 [==============================] - 26s 1ms/step - loss: 0.4800 - accuracy: 0.7593 - val_loss: 0.3050 - val_accuracy: 0.8771\n",
      "Epoch 2/5\n",
      "22003/22003 [==============================] - 26s 1ms/step - loss: 0.2469 - accuracy: 0.8993 - val_loss: 0.2757 - val_accuracy: 0.8860\n",
      "Epoch 3/5\n",
      "22003/22003 [==============================] - 25s 1ms/step - loss: 0.1841 - accuracy: 0.9273 - val_loss: 0.2567 - val_accuracy: 0.8956\n",
      "Epoch 4/5\n",
      "22003/22003 [==============================] - 26s 1ms/step - loss: 0.1449 - accuracy: 0.9458 - val_loss: 0.2746 - val_accuracy: 0.8967\n",
      "Epoch 5/5\n",
      "22003/22003 [==============================] - 25s 1ms/step - loss: 0.1198 - accuracy: 0.9555 - val_loss: 0.2822 - val_accuracy: 0.8920\n"
     ]
    },
    {
     "name": "stderr",
     "output_type": "stream",
     "text": [
      "C:\\Users\\yiorg\\anaconda3\\envs\\dl\\lib\\site-packages\\tensorflow_core\\python\\framework\\indexed_slices.py:433: UserWarning: Converting sparse IndexedSlices to a dense Tensor of unknown shape. This may consume a large amount of memory.\n",
      "  \"Converting sparse IndexedSlices to a dense Tensor of unknown shape. \"\n"
     ]
    },
    {
     "name": "stdout",
     "output_type": "stream",
     "text": [
      "Train on 22003 samples, validate on 10838 samples\n",
      "Epoch 1/5\n",
      "22003/22003 [==============================] - 31s 1ms/step - loss: 0.4699 - accuracy: 0.7661 - val_loss: 0.3004 - val_accuracy: 0.8726\n",
      "Epoch 2/5\n",
      "22003/22003 [==============================] - 31s 1ms/step - loss: 0.2459 - accuracy: 0.9014 - val_loss: 0.2516 - val_accuracy: 0.8951\n",
      "Epoch 3/5\n",
      "22003/22003 [==============================] - 31s 1ms/step - loss: 0.1770 - accuracy: 0.9319 - val_loss: 0.2549 - val_accuracy: 0.8951\n",
      "Epoch 4/5\n",
      "22003/22003 [==============================] - 29s 1ms/step - loss: 0.1379 - accuracy: 0.9478 - val_loss: 0.2615 - val_accuracy: 0.8968\n",
      "Epoch 5/5\n",
      "22003/22003 [==============================] - 29s 1ms/step - loss: 0.1163 - accuracy: 0.9577 - val_loss: 0.3133 - val_accuracy: 0.8938\n"
     ]
    },
    {
     "name": "stderr",
     "output_type": "stream",
     "text": [
      "C:\\Users\\yiorg\\anaconda3\\envs\\dl\\lib\\site-packages\\tensorflow_core\\python\\framework\\indexed_slices.py:433: UserWarning: Converting sparse IndexedSlices to a dense Tensor of unknown shape. This may consume a large amount of memory.\n",
      "  \"Converting sparse IndexedSlices to a dense Tensor of unknown shape. \"\n"
     ]
    },
    {
     "name": "stdout",
     "output_type": "stream",
     "text": [
      "Train on 22003 samples, validate on 10838 samples\n",
      "Epoch 1/5\n",
      "22003/22003 [==============================] - 28s 1ms/step - loss: 0.5022 - accuracy: 0.7473 - val_loss: 0.3221 - val_accuracy: 0.8630\n",
      "Epoch 2/5\n",
      "22003/22003 [==============================] - 27s 1ms/step - loss: 0.2697 - accuracy: 0.8897 - val_loss: 0.2664 - val_accuracy: 0.8878\n",
      "Epoch 3/5\n",
      "22003/22003 [==============================] - 27s 1ms/step - loss: 0.2067 - accuracy: 0.9176 - val_loss: 0.2656 - val_accuracy: 0.8902\n",
      "Epoch 4/5\n",
      "22003/22003 [==============================] - 26s 1ms/step - loss: 0.1714 - accuracy: 0.9351 - val_loss: 0.2822 - val_accuracy: 0.8830\n",
      "Epoch 5/5\n",
      "22003/22003 [==============================] - 26s 1ms/step - loss: 0.1425 - accuracy: 0.9446 - val_loss: 0.3382 - val_accuracy: 0.8751\n"
     ]
    },
    {
     "name": "stderr",
     "output_type": "stream",
     "text": [
      "C:\\Users\\yiorg\\anaconda3\\envs\\dl\\lib\\site-packages\\tensorflow_core\\python\\framework\\indexed_slices.py:433: UserWarning: Converting sparse IndexedSlices to a dense Tensor of unknown shape. This may consume a large amount of memory.\n",
      "  \"Converting sparse IndexedSlices to a dense Tensor of unknown shape. \"\n"
     ]
    },
    {
     "name": "stdout",
     "output_type": "stream",
     "text": [
      "Train on 22003 samples, validate on 10838 samples\n",
      "Epoch 1/5\n",
      "22003/22003 [==============================] - 32s 1ms/step - loss: 0.4702 - accuracy: 0.7648 - val_loss: 0.2920 - val_accuracy: 0.8766\n",
      "Epoch 2/5\n",
      "22003/22003 [==============================] - 32s 1ms/step - loss: 0.2475 - accuracy: 0.8991 - val_loss: 0.2615 - val_accuracy: 0.8915\n",
      "Epoch 3/5\n",
      "22003/22003 [==============================] - 32s 1ms/step - loss: 0.1866 - accuracy: 0.9266 - val_loss: 0.2587 - val_accuracy: 0.8944\n",
      "Epoch 4/5\n",
      "22003/22003 [==============================] - 32s 1ms/step - loss: 0.1532 - accuracy: 0.9415 - val_loss: 0.2628 - val_accuracy: 0.8950\n",
      "Epoch 5/5\n",
      "22003/22003 [==============================] - 32s 1ms/step - loss: 0.1271 - accuracy: 0.9526 - val_loss: 0.2772 - val_accuracy: 0.8899\n"
     ]
    },
    {
     "name": "stderr",
     "output_type": "stream",
     "text": [
      "C:\\Users\\yiorg\\anaconda3\\envs\\dl\\lib\\site-packages\\tensorflow_core\\python\\framework\\indexed_slices.py:433: UserWarning: Converting sparse IndexedSlices to a dense Tensor of unknown shape. This may consume a large amount of memory.\n",
      "  \"Converting sparse IndexedSlices to a dense Tensor of unknown shape. \"\n"
     ]
    },
    {
     "name": "stdout",
     "output_type": "stream",
     "text": [
      "Train on 22003 samples, validate on 10838 samples\n",
      "Epoch 1/5\n",
      "22003/22003 [==============================] - 26s 1ms/step - loss: 0.4974 - accuracy: 0.7435 - val_loss: 0.2970 - val_accuracy: 0.8770\n",
      "Epoch 2/5\n",
      "22003/22003 [==============================] - 26s 1ms/step - loss: 0.2687 - accuracy: 0.8903 - val_loss: 0.2783 - val_accuracy: 0.8822\n",
      "Epoch 3/5\n",
      "22003/22003 [==============================] - 26s 1ms/step - loss: 0.2003 - accuracy: 0.9201 - val_loss: 0.2520 - val_accuracy: 0.8968\n",
      "Epoch 4/5\n",
      "22003/22003 [==============================] - 26s 1ms/step - loss: 0.1742 - accuracy: 0.9305 - val_loss: 0.2722 - val_accuracy: 0.8904\n",
      "Epoch 5/5\n",
      "22003/22003 [==============================] - 26s 1ms/step - loss: 0.1488 - accuracy: 0.9411 - val_loss: 0.2971 - val_accuracy: 0.8789\n"
     ]
    },
    {
     "name": "stderr",
     "output_type": "stream",
     "text": [
      "C:\\Users\\yiorg\\anaconda3\\envs\\dl\\lib\\site-packages\\tensorflow_core\\python\\framework\\indexed_slices.py:433: UserWarning: Converting sparse IndexedSlices to a dense Tensor of unknown shape. This may consume a large amount of memory.\n",
      "  \"Converting sparse IndexedSlices to a dense Tensor of unknown shape. \"\n"
     ]
    },
    {
     "name": "stdout",
     "output_type": "stream",
     "text": [
      "Train on 22003 samples, validate on 10838 samples\n",
      "Epoch 1/5\n",
      "22003/22003 [==============================] - 32s 1ms/step - loss: 0.4977 - accuracy: 0.7466 - val_loss: 0.3006 - val_accuracy: 0.8762\n",
      "Epoch 2/5\n",
      "22003/22003 [==============================] - 31s 1ms/step - loss: 0.2684 - accuracy: 0.8916 - val_loss: 0.2600 - val_accuracy: 0.8900\n",
      "Epoch 3/5\n",
      "22003/22003 [==============================] - 31s 1ms/step - loss: 0.2085 - accuracy: 0.9164 - val_loss: 0.2514 - val_accuracy: 0.8949\n",
      "Epoch 4/5\n",
      "22003/22003 [==============================] - 31s 1ms/step - loss: 0.1681 - accuracy: 0.9348 - val_loss: 0.2729 - val_accuracy: 0.8955\n",
      "Epoch 5/5\n",
      "22003/22003 [==============================] - 31s 1ms/step - loss: 0.1398 - accuracy: 0.9463 - val_loss: 0.2961 - val_accuracy: 0.8929\n"
     ]
    },
    {
     "name": "stderr",
     "output_type": "stream",
     "text": [
      "C:\\Users\\yiorg\\anaconda3\\envs\\dl\\lib\\site-packages\\tensorflow_core\\python\\framework\\indexed_slices.py:433: UserWarning: Converting sparse IndexedSlices to a dense Tensor of unknown shape. This may consume a large amount of memory.\n",
      "  \"Converting sparse IndexedSlices to a dense Tensor of unknown shape. \"\n"
     ]
    },
    {
     "name": "stdout",
     "output_type": "stream",
     "text": [
      "Train on 22003 samples, validate on 10838 samples\n",
      "Epoch 1/5\n",
      "22003/22003 [==============================] - 26s 1ms/step - loss: 0.5324 - accuracy: 0.7227 - val_loss: 0.3251 - val_accuracy: 0.8614\n",
      "Epoch 2/5\n",
      "22003/22003 [==============================] - 26s 1ms/step - loss: 0.3000 - accuracy: 0.8768 - val_loss: 0.2657 - val_accuracy: 0.8899\n",
      "Epoch 3/5\n",
      "22003/22003 [==============================] - 26s 1ms/step - loss: 0.2350 - accuracy: 0.9045 - val_loss: 0.2547 - val_accuracy: 0.8930\n",
      "Epoch 4/5\n",
      "22003/22003 [==============================] - 26s 1ms/step - loss: 0.2021 - accuracy: 0.9198 - val_loss: 0.2567 - val_accuracy: 0.8919\n",
      "Epoch 5/5\n",
      "22003/22003 [==============================] - 26s 1ms/step - loss: 0.1801 - accuracy: 0.9298 - val_loss: 0.2886 - val_accuracy: 0.8898\n"
     ]
    },
    {
     "name": "stderr",
     "output_type": "stream",
     "text": [
      "C:\\Users\\yiorg\\anaconda3\\envs\\dl\\lib\\site-packages\\tensorflow_core\\python\\framework\\indexed_slices.py:433: UserWarning: Converting sparse IndexedSlices to a dense Tensor of unknown shape. This may consume a large amount of memory.\n",
      "  \"Converting sparse IndexedSlices to a dense Tensor of unknown shape. \"\n"
     ]
    },
    {
     "name": "stdout",
     "output_type": "stream",
     "text": [
      "Train on 22003 samples, validate on 10838 samples\n",
      "Epoch 1/5\n",
      "22003/22003 [==============================] - 31s 1ms/step - loss: 0.5305 - accuracy: 0.7283 - val_loss: 0.3550 - val_accuracy: 0.8500\n",
      "Epoch 2/5\n",
      "22003/22003 [==============================] - 31s 1ms/step - loss: 0.3119 - accuracy: 0.8689 - val_loss: 0.2680 - val_accuracy: 0.8878\n",
      "Epoch 3/5\n",
      "22003/22003 [==============================] - 30s 1ms/step - loss: 0.2490 - accuracy: 0.8984 - val_loss: 0.2999 - val_accuracy: 0.8737\n",
      "Epoch 4/5\n",
      "22003/22003 [==============================] - 31s 1ms/step - loss: 0.2185 - accuracy: 0.9120 - val_loss: 0.2642 - val_accuracy: 0.8924\n",
      "Epoch 5/5\n",
      "22003/22003 [==============================] - 30s 1ms/step - loss: 0.1958 - accuracy: 0.9234 - val_loss: 0.2750 - val_accuracy: 0.8871\n"
     ]
    }
   ],
   "source": [
    "hl_conv1d, hb_conv1d = {}, {}\n",
    "for dropout_after_conv1d in [0, 0.10, 0.25, 0.375, 0.50, 0.625, 0.75]:\n",
    "    lstm = create_model(embedding, conv1d, lstm_kw, \n",
    "                        dropout_after_embedding=0.50,\n",
    "                        dropout_after_conv1d=dropout_after_conv1d,\n",
    "                        bidirectional=False)\n",
    "    blstm = create_model(embedding, conv1d, lstm_kw, \n",
    "                         dropout_after_embedding=0.50,\n",
    "                         dropout_after_conv1d=dropout_after_conv1d, \n",
    "                         bidirectional=True)\n",
    "    hl = lstm.fit(X_train, y_train, batch_size=64, epochs=5, validation_data=(X_test, y_test))\n",
    "    hb = blstm.fit(X_train, y_train, batch_size=64, epochs=5, validation_data=(X_test, y_test))\n",
    "    hl_acc, hb_acc = max(hl.history['val_accuracy']), max(hb.history['val_accuracy'])\n",
    "    hl_conv1d[dropout_after_conv1d] = hl_acc\n",
    "    hb_conv1d[dropout_after_conv1d] = hb_acc    "
   ]
  },
  {
   "cell_type": "code",
   "execution_count": 113,
   "metadata": {},
   "outputs": [],
   "source": [
    "hl_conv1d = pd.Series(hl_conv1d, name='lstm_acc')\n",
    "hb_conv1d = pd.Series(hb_conv1d, name='blstm_acc')\n",
    "\n",
    "pd.to_pickle(hl_conv1d, \"hl_conv1d.pkl\")\n",
    "pd.to_pickle(hb_conv1d, \"hb_conv1d.pkl\")"
   ]
  },
  {
   "cell_type": "code",
   "execution_count": 115,
   "metadata": {},
   "outputs": [
    {
     "data": {
      "text/html": [
       "<div>\n",
       "<style scoped>\n",
       "    .dataframe tbody tr th:only-of-type {\n",
       "        vertical-align: middle;\n",
       "    }\n",
       "\n",
       "    .dataframe tbody tr th {\n",
       "        vertical-align: top;\n",
       "    }\n",
       "\n",
       "    .dataframe thead th {\n",
       "        text-align: right;\n",
       "    }\n",
       "</style>\n",
       "<table border=\"1\" class=\"dataframe\">\n",
       "  <thead>\n",
       "    <tr style=\"text-align: right;\">\n",
       "      <th></th>\n",
       "      <th>lstm</th>\n",
       "      <th>blstm</th>\n",
       "    </tr>\n",
       "  </thead>\n",
       "  <tbody>\n",
       "    <tr>\n",
       "      <th>0.000</th>\n",
       "      <td>0.891770</td>\n",
       "      <td>0.893523</td>\n",
       "    </tr>\n",
       "    <tr>\n",
       "      <th>0.100</th>\n",
       "      <td>0.896752</td>\n",
       "      <td>0.891124</td>\n",
       "    </tr>\n",
       "    <tr>\n",
       "      <th>0.250</th>\n",
       "      <td>0.893892</td>\n",
       "      <td>0.900812</td>\n",
       "    </tr>\n",
       "    <tr>\n",
       "      <th>0.375</th>\n",
       "      <td>0.896660</td>\n",
       "      <td>0.896844</td>\n",
       "    </tr>\n",
       "    <tr>\n",
       "      <th>0.500</th>\n",
       "      <td>0.890201</td>\n",
       "      <td>0.894999</td>\n",
       "    </tr>\n",
       "    <tr>\n",
       "      <th>0.625</th>\n",
       "      <td>0.896752</td>\n",
       "      <td>0.895460</td>\n",
       "    </tr>\n",
       "    <tr>\n",
       "      <th>0.750</th>\n",
       "      <td>0.892969</td>\n",
       "      <td>0.892416</td>\n",
       "    </tr>\n",
       "  </tbody>\n",
       "</table>\n",
       "</div>"
      ],
      "text/plain": [
       "           lstm     blstm\n",
       "0.000  0.891770  0.893523\n",
       "0.100  0.896752  0.891124\n",
       "0.250  0.893892  0.900812\n",
       "0.375  0.896660  0.896844\n",
       "0.500  0.890201  0.894999\n",
       "0.625  0.896752  0.895460\n",
       "0.750  0.892969  0.892416"
      ]
     },
     "execution_count": 115,
     "metadata": {},
     "output_type": "execute_result"
    }
   ],
   "source": [
    "pd.DataFrame({'lstm':hl_conv1d, 'blstm':hb_conv1d})"
   ]
  },
  {
   "cell_type": "code",
   "execution_count": 114,
   "metadata": {},
   "outputs": [
    {
     "data": {
      "image/png": "[encoded data removed]",
      "text/plain": [
       "<Figure size 864x288 with 1 Axes>"
      ]
     },
     "metadata": {
      "needs_background": "light"
     },
     "output_type": "display_data"
    }
   ],
   "source": [
    "plt.figure(figsize=(12, 4))\n",
    "hl_conv1d.plot(label='lstm', marker='o')\n",
    "hb_conv1d.plot(label='blstm', marker='*')\n",
    "plt.legend(fancybox=True, shadow=True)\n",
    "plt.grid()\n",
    "plt.xlabel(\"Conv1d dropout\")\n",
    "plt.ylabel(\"accuracy\")\n",
    "plt.title(\"Conv1d Dropout VS Accuracy\");"
   ]
  },
  {
   "cell_type": "code",
   "execution_count": 122,
   "metadata": {},
   "outputs": [
    {
     "name": "stderr",
     "output_type": "stream",
     "text": [
      "C:\\Users\\yiorg\\anaconda3\\envs\\dl\\lib\\site-packages\\tensorflow_core\\python\\framework\\indexed_slices.py:433: UserWarning: Converting sparse IndexedSlices to a dense Tensor of unknown shape. This may consume a large amount of memory.\n",
      "  \"Converting sparse IndexedSlices to a dense Tensor of unknown shape. \"\n"
     ]
    },
    {
     "name": "stdout",
     "output_type": "stream",
     "text": [
      "Train on 22003 samples, validate on 10838 samples\n",
      "Epoch 1/7\n",
      "22003/22003 [==============================] - 27s 1ms/step - loss: 0.4567 - accuracy: 0.7752 - val_loss: 0.2971 - val_accuracy: 0.8741\n",
      "Epoch 2/7\n",
      "22003/22003 [==============================] - 26s 1ms/step - loss: 0.2235 - accuracy: 0.9116 - val_loss: 0.2838 - val_accuracy: 0.8763\n",
      "Epoch 3/7\n",
      "22003/22003 [==============================] - 26s 1ms/step - loss: 0.1615 - accuracy: 0.9381 - val_loss: 0.2676 - val_accuracy: 0.8932\n",
      "Epoch 4/7\n",
      "22003/22003 [==============================] - 26s 1ms/step - loss: 0.1256 - accuracy: 0.9532 - val_loss: 0.2720 - val_accuracy: 0.8930\n",
      "Epoch 5/7\n",
      "22003/22003 [==============================] - 27s 1ms/step - loss: 0.1014 - accuracy: 0.9636 - val_loss: 0.3052 - val_accuracy: 0.8872\n",
      "Epoch 6/7\n",
      "22003/22003 [==============================] - 25s 1ms/step - loss: 0.0809 - accuracy: 0.9705 - val_loss: 0.3426 - val_accuracy: 0.8726\n",
      "Epoch 7/7\n",
      "22003/22003 [==============================] - 26s 1ms/step - loss: 0.0705 - accuracy: 0.9743 - val_loss: 0.3776 - val_accuracy: 0.8858\n"
     ]
    },
    {
     "name": "stderr",
     "output_type": "stream",
     "text": [
      "C:\\Users\\yiorg\\anaconda3\\envs\\dl\\lib\\site-packages\\tensorflow_core\\python\\framework\\indexed_slices.py:433: UserWarning: Converting sparse IndexedSlices to a dense Tensor of unknown shape. This may consume a large amount of memory.\n",
      "  \"Converting sparse IndexedSlices to a dense Tensor of unknown shape. \"\n"
     ]
    },
    {
     "name": "stdout",
     "output_type": "stream",
     "text": [
      "Train on 22003 samples, validate on 10838 samples\n",
      "Epoch 1/7\n",
      "22003/22003 [==============================] - 36s 2ms/step - loss: 0.4733 - accuracy: 0.7642 - val_loss: 0.2988 - val_accuracy: 0.8715\n",
      "Epoch 2/7\n",
      "22003/22003 [==============================] - 34s 2ms/step - loss: 0.2368 - accuracy: 0.9061 - val_loss: 0.2715 - val_accuracy: 0.8848\n",
      "Epoch 3/7\n",
      "22003/22003 [==============================] - 35s 2ms/step - loss: 0.1718 - accuracy: 0.9345 - val_loss: 0.2578 - val_accuracy: 0.8921\n",
      "Epoch 4/7\n",
      "22003/22003 [==============================] - 35s 2ms/step - loss: 0.1379 - accuracy: 0.9477 - val_loss: 0.2868 - val_accuracy: 0.8835\n",
      "Epoch 5/7\n",
      "22003/22003 [==============================] - 35s 2ms/step - loss: 0.1087 - accuracy: 0.9591 - val_loss: 0.2932 - val_accuracy: 0.8914\n",
      "Epoch 6/7\n",
      "22003/22003 [==============================] - 35s 2ms/step - loss: 0.0929 - accuracy: 0.9664 - val_loss: 0.3191 - val_accuracy: 0.8893\n",
      "Epoch 7/7\n",
      "22003/22003 [==============================] - 35s 2ms/step - loss: 0.0794 - accuracy: 0.9706 - val_loss: 0.3275 - val_accuracy: 0.8861\n"
     ]
    },
    {
     "name": "stderr",
     "output_type": "stream",
     "text": [
      "C:\\Users\\yiorg\\anaconda3\\envs\\dl\\lib\\site-packages\\tensorflow_core\\python\\framework\\indexed_slices.py:433: UserWarning: Converting sparse IndexedSlices to a dense Tensor of unknown shape. This may consume a large amount of memory.\n",
      "  \"Converting sparse IndexedSlices to a dense Tensor of unknown shape. \"\n"
     ]
    },
    {
     "name": "stdout",
     "output_type": "stream",
     "text": [
      "Train on 22003 samples, validate on 10838 samples\n",
      "Epoch 1/7\n",
      "22003/22003 [==============================] - 29s 1ms/step - loss: 0.4818 - accuracy: 0.7570 - val_loss: 0.2985 - val_accuracy: 0.8759\n",
      "Epoch 2/7\n",
      "22003/22003 [==============================] - 28s 1ms/step - loss: 0.2610 - accuracy: 0.8946 - val_loss: 0.2645 - val_accuracy: 0.8909\n",
      "Epoch 3/7\n",
      "22003/22003 [==============================] - 28s 1ms/step - loss: 0.2011 - accuracy: 0.9213 - val_loss: 0.2605 - val_accuracy: 0.8980\n",
      "Epoch 4/7\n",
      "22003/22003 [==============================] - 28s 1ms/step - loss: 0.1638 - accuracy: 0.9365 - val_loss: 0.2990 - val_accuracy: 0.8909\n",
      "Epoch 5/7\n",
      "22003/22003 [==============================] - 28s 1ms/step - loss: 0.1382 - accuracy: 0.9480 - val_loss: 0.2745 - val_accuracy: 0.8903\n",
      "Epoch 6/7\n",
      "22003/22003 [==============================] - 28s 1ms/step - loss: 0.1130 - accuracy: 0.9590 - val_loss: 0.3135 - val_accuracy: 0.8879\n",
      "Epoch 7/7\n",
      "22003/22003 [==============================] - 29s 1ms/step - loss: 0.0939 - accuracy: 0.9653 - val_loss: 0.3343 - val_accuracy: 0.8881\n"
     ]
    },
    {
     "name": "stderr",
     "output_type": "stream",
     "text": [
      "C:\\Users\\yiorg\\anaconda3\\envs\\dl\\lib\\site-packages\\tensorflow_core\\python\\framework\\indexed_slices.py:433: UserWarning: Converting sparse IndexedSlices to a dense Tensor of unknown shape. This may consume a large amount of memory.\n",
      "  \"Converting sparse IndexedSlices to a dense Tensor of unknown shape. \"\n"
     ]
    },
    {
     "name": "stdout",
     "output_type": "stream",
     "text": [
      "Train on 22003 samples, validate on 10838 samples\n",
      "Epoch 1/7\n",
      "22003/22003 [==============================] - 35s 2ms/step - loss: 0.4965 - accuracy: 0.7482 - val_loss: 0.2928 - val_accuracy: 0.8798\n",
      "Epoch 2/7\n",
      "22003/22003 [==============================] - 34s 2ms/step - loss: 0.2628 - accuracy: 0.8944 - val_loss: 0.2480 - val_accuracy: 0.8989\n",
      "Epoch 3/7\n",
      "22003/22003 [==============================] - 33s 2ms/step - loss: 0.1868 - accuracy: 0.9266 - val_loss: 0.2463 - val_accuracy: 0.9032\n",
      "Epoch 4/7\n",
      "22003/22003 [==============================] - 33s 2ms/step - loss: 0.1544 - accuracy: 0.9409 - val_loss: 0.2595 - val_accuracy: 0.8965\n",
      "Epoch 5/7\n",
      "22003/22003 [==============================] - 33s 2ms/step - loss: 0.1276 - accuracy: 0.9518 - val_loss: 0.2859 - val_accuracy: 0.8923\n",
      "Epoch 6/7\n",
      "22003/22003 [==============================] - 33s 2ms/step - loss: 0.1071 - accuracy: 0.9605 - val_loss: 0.3129 - val_accuracy: 0.8900\n",
      "Epoch 7/7\n",
      "22003/22003 [==============================] - 35s 2ms/step - loss: 0.0927 - accuracy: 0.9661 - val_loss: 0.3299 - val_accuracy: 0.8853\n"
     ]
    },
    {
     "name": "stderr",
     "output_type": "stream",
     "text": [
      "C:\\Users\\yiorg\\anaconda3\\envs\\dl\\lib\\site-packages\\tensorflow_core\\python\\framework\\indexed_slices.py:433: UserWarning: Converting sparse IndexedSlices to a dense Tensor of unknown shape. This may consume a large amount of memory.\n",
      "  \"Converting sparse IndexedSlices to a dense Tensor of unknown shape. \"\n"
     ]
    },
    {
     "name": "stdout",
     "output_type": "stream",
     "text": [
      "Train on 22003 samples, validate on 10838 samples\n",
      "Epoch 1/7\n",
      "22003/22003 [==============================] - 28s 1ms/step - loss: 0.5099 - accuracy: 0.7386 - val_loss: 0.3029 - val_accuracy: 0.8795\n",
      "Epoch 2/7\n",
      "22003/22003 [==============================] - 29s 1ms/step - loss: 0.2833 - accuracy: 0.8857 - val_loss: 0.2552 - val_accuracy: 0.8972\n",
      "Epoch 3/7\n",
      "22003/22003 [==============================] - 27s 1ms/step - loss: 0.2189 - accuracy: 0.9120 - val_loss: 0.2495 - val_accuracy: 0.8982\n",
      "Epoch 4/7\n",
      "22003/22003 [==============================] - 27s 1ms/step - loss: 0.1741 - accuracy: 0.9326 - val_loss: 0.2854 - val_accuracy: 0.8918\n",
      "Epoch 5/7\n",
      "22003/22003 [==============================] - 28s 1ms/step - loss: 0.1467 - accuracy: 0.9450 - val_loss: 0.2879 - val_accuracy: 0.8872\n",
      "Epoch 6/7\n",
      "22003/22003 [==============================] - 28s 1ms/step - loss: 0.1216 - accuracy: 0.9549 - val_loss: 0.3099 - val_accuracy: 0.8860\n",
      "Epoch 7/7\n",
      "22003/22003 [==============================] - 28s 1ms/step - loss: 0.1071 - accuracy: 0.9614 - val_loss: 0.3443 - val_accuracy: 0.8793\n"
     ]
    },
    {
     "name": "stderr",
     "output_type": "stream",
     "text": [
      "C:\\Users\\yiorg\\anaconda3\\envs\\dl\\lib\\site-packages\\tensorflow_core\\python\\framework\\indexed_slices.py:433: UserWarning: Converting sparse IndexedSlices to a dense Tensor of unknown shape. This may consume a large amount of memory.\n",
      "  \"Converting sparse IndexedSlices to a dense Tensor of unknown shape. \"\n"
     ]
    },
    {
     "name": "stdout",
     "output_type": "stream",
     "text": [
      "Train on 22003 samples, validate on 10838 samples\n",
      "Epoch 1/7\n",
      "22003/22003 [==============================] - 36s 2ms/step - loss: 0.5251 - accuracy: 0.7282 - val_loss: 0.3077 - val_accuracy: 0.8621\n",
      "Epoch 2/7\n",
      "22003/22003 [==============================] - 35s 2ms/step - loss: 0.2848 - accuracy: 0.8859 - val_loss: 0.2581 - val_accuracy: 0.8935\n",
      "Epoch 3/7\n",
      "22003/22003 [==============================] - 36s 2ms/step - loss: 0.2208 - accuracy: 0.9136 - val_loss: 0.2569 - val_accuracy: 0.8968\n",
      "Epoch 4/7\n",
      "22003/22003 [==============================] - 36s 2ms/step - loss: 0.1820 - accuracy: 0.9321 - val_loss: 0.2699 - val_accuracy: 0.8896\n",
      "Epoch 5/7\n",
      "22003/22003 [==============================] - 35s 2ms/step - loss: 0.1505 - accuracy: 0.9431 - val_loss: 0.2997 - val_accuracy: 0.8848\n",
      "Epoch 6/7\n",
      "22003/22003 [==============================] - 36s 2ms/step - loss: 0.1236 - accuracy: 0.9542 - val_loss: 0.3045 - val_accuracy: 0.8834\n",
      "Epoch 7/7\n",
      "22003/22003 [==============================] - 34s 2ms/step - loss: 0.1054 - accuracy: 0.9615 - val_loss: 0.3334 - val_accuracy: 0.8794\n"
     ]
    },
    {
     "name": "stderr",
     "output_type": "stream",
     "text": [
      "C:\\Users\\yiorg\\anaconda3\\envs\\dl\\lib\\site-packages\\tensorflow_core\\python\\framework\\indexed_slices.py:433: UserWarning: Converting sparse IndexedSlices to a dense Tensor of unknown shape. This may consume a large amount of memory.\n",
      "  \"Converting sparse IndexedSlices to a dense Tensor of unknown shape. \"\n"
     ]
    },
    {
     "name": "stdout",
     "output_type": "stream",
     "text": [
      "Train on 22003 samples, validate on 10838 samples\n",
      "Epoch 1/7\n",
      "22003/22003 [==============================] - 28s 1ms/step - loss: 0.5274 - accuracy: 0.7258 - val_loss: 0.3033 - val_accuracy: 0.8805\n",
      "Epoch 2/7\n",
      "22003/22003 [==============================] - 28s 1ms/step - loss: 0.3222 - accuracy: 0.8643 - val_loss: 0.2581 - val_accuracy: 0.9007\n",
      "Epoch 3/7\n",
      "22003/22003 [==============================] - 27s 1ms/step - loss: 0.2507 - accuracy: 0.9003 - val_loss: 0.2607 - val_accuracy: 0.8957\n",
      "Epoch 4/7\n",
      "22003/22003 [==============================] - 27s 1ms/step - loss: 0.1995 - accuracy: 0.9225 - val_loss: 0.2657 - val_accuracy: 0.8929\n",
      "Epoch 5/7\n",
      "22003/22003 [==============================] - 27s 1ms/step - loss: 0.1720 - accuracy: 0.9354 - val_loss: 0.2876 - val_accuracy: 0.8833\n",
      "Epoch 6/7\n",
      "22003/22003 [==============================] - 27s 1ms/step - loss: 0.1558 - accuracy: 0.9438 - val_loss: 0.2970 - val_accuracy: 0.8779\n",
      "Epoch 7/7\n",
      "22003/22003 [==============================] - 29s 1ms/step - loss: 0.1322 - accuracy: 0.9519 - val_loss: 0.3235 - val_accuracy: 0.8789\n"
     ]
    },
    {
     "name": "stderr",
     "output_type": "stream",
     "text": [
      "C:\\Users\\yiorg\\anaconda3\\envs\\dl\\lib\\site-packages\\tensorflow_core\\python\\framework\\indexed_slices.py:433: UserWarning: Converting sparse IndexedSlices to a dense Tensor of unknown shape. This may consume a large amount of memory.\n",
      "  \"Converting sparse IndexedSlices to a dense Tensor of unknown shape. \"\n"
     ]
    },
    {
     "name": "stdout",
     "output_type": "stream",
     "text": [
      "Train on 22003 samples, validate on 10838 samples\n",
      "Epoch 1/7\n",
      "22003/22003 [==============================] - 35s 2ms/step - loss: 0.5400 - accuracy: 0.7208 - val_loss: 0.3543 - val_accuracy: 0.8537\n",
      "Epoch 2/7\n",
      "22003/22003 [==============================] - 36s 2ms/step - loss: 0.3368 - accuracy: 0.8558 - val_loss: 0.2887 - val_accuracy: 0.8831\n",
      "Epoch 3/7\n",
      "22003/22003 [==============================] - 35s 2ms/step - loss: 0.2689 - accuracy: 0.8896 - val_loss: 0.2651 - val_accuracy: 0.8919\n",
      "Epoch 4/7\n",
      "22003/22003 [==============================] - 36s 2ms/step - loss: 0.2331 - accuracy: 0.9069 - val_loss: 0.2821 - val_accuracy: 0.8823\n",
      "Epoch 5/7\n",
      "22003/22003 [==============================] - 34s 2ms/step - loss: 0.1999 - accuracy: 0.9216 - val_loss: 0.2951 - val_accuracy: 0.8833\n",
      "Epoch 6/7\n",
      "22003/22003 [==============================] - 35s 2ms/step - loss: 0.1779 - accuracy: 0.9315 - val_loss: 0.3400 - val_accuracy: 0.8707\n",
      "Epoch 7/7\n",
      "22003/22003 [==============================] - 34s 2ms/step - loss: 0.1622 - accuracy: 0.9378 - val_loss: 0.3562 - val_accuracy: 0.8691\n"
     ]
    },
    {
     "name": "stderr",
     "output_type": "stream",
     "text": [
      "C:\\Users\\yiorg\\anaconda3\\envs\\dl\\lib\\site-packages\\tensorflow_core\\python\\framework\\indexed_slices.py:433: UserWarning: Converting sparse IndexedSlices to a dense Tensor of unknown shape. This may consume a large amount of memory.\n",
      "  \"Converting sparse IndexedSlices to a dense Tensor of unknown shape. \"\n"
     ]
    },
    {
     "name": "stdout",
     "output_type": "stream",
     "text": [
      "Train on 22003 samples, validate on 10838 samples\n",
      "Epoch 1/7\n",
      "22003/22003 [==============================] - 28s 1ms/step - loss: 0.5466 - accuracy: 0.7160 - val_loss: 0.3223 - val_accuracy: 0.8750\n",
      "Epoch 2/7\n",
      "22003/22003 [==============================] - 27s 1ms/step - loss: 0.3420 - accuracy: 0.8528 - val_loss: 0.2750 - val_accuracy: 0.8893\n",
      "Epoch 3/7\n",
      "22003/22003 [==============================] - 28s 1ms/step - loss: 0.2661 - accuracy: 0.8941 - val_loss: 0.2714 - val_accuracy: 0.8866\n",
      "Epoch 4/7\n",
      "22003/22003 [==============================] - 28s 1ms/step - loss: 0.2207 - accuracy: 0.9145 - val_loss: 0.2831 - val_accuracy: 0.8854\n",
      "Epoch 5/7\n",
      "22003/22003 [==============================] - 28s 1ms/step - loss: 0.1905 - accuracy: 0.9273 - val_loss: 0.2868 - val_accuracy: 0.8828\n",
      "Epoch 6/7\n",
      "22003/22003 [==============================] - 27s 1ms/step - loss: 0.1667 - accuracy: 0.9370 - val_loss: 0.3133 - val_accuracy: 0.8755\n",
      "Epoch 7/7\n",
      "22003/22003 [==============================] - 29s 1ms/step - loss: 0.1502 - accuracy: 0.9430 - val_loss: 0.3081 - val_accuracy: 0.8778\n"
     ]
    },
    {
     "name": "stderr",
     "output_type": "stream",
     "text": [
      "C:\\Users\\yiorg\\anaconda3\\envs\\dl\\lib\\site-packages\\tensorflow_core\\python\\framework\\indexed_slices.py:433: UserWarning: Converting sparse IndexedSlices to a dense Tensor of unknown shape. This may consume a large amount of memory.\n",
      "  \"Converting sparse IndexedSlices to a dense Tensor of unknown shape. \"\n"
     ]
    },
    {
     "name": "stdout",
     "output_type": "stream",
     "text": [
      "Train on 22003 samples, validate on 10838 samples\n",
      "Epoch 1/7\n",
      "22003/22003 [==============================] - 36s 2ms/step - loss: 0.5635 - accuracy: 0.6994 - val_loss: 0.3306 - val_accuracy: 0.8644\n",
      "Epoch 2/7\n",
      "22003/22003 [==============================] - 37s 2ms/step - loss: 0.3426 - accuracy: 0.8558 - val_loss: 0.2719 - val_accuracy: 0.8896\n",
      "Epoch 3/7\n",
      "22003/22003 [==============================] - 36s 2ms/step - loss: 0.2745 - accuracy: 0.8869 - val_loss: 0.2782 - val_accuracy: 0.8870\n",
      "Epoch 4/7\n",
      "22003/22003 [==============================] - 36s 2ms/step - loss: 0.2294 - accuracy: 0.9083 - val_loss: 0.2949 - val_accuracy: 0.8799\n",
      "Epoch 5/7\n",
      "22003/22003 [==============================] - 38s 2ms/step - loss: 0.1980 - accuracy: 0.9240 - val_loss: 0.3620 - val_accuracy: 0.8579\n",
      "Epoch 6/7\n",
      "22003/22003 [==============================] - 38s 2ms/step - loss: 0.1729 - accuracy: 0.9358 - val_loss: 0.3598 - val_accuracy: 0.8681\n",
      "Epoch 7/7\n",
      "22003/22003 [==============================] - 37s 2ms/step - loss: 0.1593 - accuracy: 0.9406 - val_loss: 0.4707 - val_accuracy: 0.8362\n"
     ]
    },
    {
     "name": "stderr",
     "output_type": "stream",
     "text": [
      "C:\\Users\\yiorg\\anaconda3\\envs\\dl\\lib\\site-packages\\tensorflow_core\\python\\framework\\indexed_slices.py:433: UserWarning: Converting sparse IndexedSlices to a dense Tensor of unknown shape. This may consume a large amount of memory.\n",
      "  \"Converting sparse IndexedSlices to a dense Tensor of unknown shape. \"\n"
     ]
    },
    {
     "name": "stdout",
     "output_type": "stream",
     "text": [
      "Train on 22003 samples, validate on 10838 samples\n",
      "Epoch 1/7\n",
      "22003/22003 [==============================] - 29s 1ms/step - loss: 0.5896 - accuracy: 0.6803 - val_loss: 0.3779 - val_accuracy: 0.8440\n",
      "Epoch 2/7\n",
      "22003/22003 [==============================] - 29s 1ms/step - loss: 0.4250 - accuracy: 0.8011 - val_loss: 0.3357 - val_accuracy: 0.8584\n",
      "Epoch 3/7\n",
      "22003/22003 [==============================] - 29s 1ms/step - loss: 0.3572 - accuracy: 0.8434 - val_loss: 0.4037 - val_accuracy: 0.7999\n",
      "Epoch 4/7\n",
      "22003/22003 [==============================] - 29s 1ms/step - loss: 0.3172 - accuracy: 0.8624 - val_loss: 0.4628 - val_accuracy: 0.7564\n",
      "Epoch 5/7\n",
      "22003/22003 [==============================] - 29s 1ms/step - loss: 0.2888 - accuracy: 0.8746 - val_loss: 0.4577 - val_accuracy: 0.7644\n",
      "Epoch 6/7\n",
      "22003/22003 [==============================] - 29s 1ms/step - loss: 0.2579 - accuracy: 0.8944 - val_loss: 0.6610 - val_accuracy: 0.6565\n",
      "Epoch 7/7\n",
      "22003/22003 [==============================] - 29s 1ms/step - loss: 0.2350 - accuracy: 0.9041 - val_loss: 0.7089 - val_accuracy: 0.6660\n"
     ]
    },
    {
     "name": "stderr",
     "output_type": "stream",
     "text": [
      "C:\\Users\\yiorg\\anaconda3\\envs\\dl\\lib\\site-packages\\tensorflow_core\\python\\framework\\indexed_slices.py:433: UserWarning: Converting sparse IndexedSlices to a dense Tensor of unknown shape. This may consume a large amount of memory.\n",
      "  \"Converting sparse IndexedSlices to a dense Tensor of unknown shape. \"\n"
     ]
    },
    {
     "name": "stdout",
     "output_type": "stream",
     "text": [
      "Train on 22003 samples, validate on 10838 samples\n",
      "Epoch 1/7\n",
      "22003/22003 [==============================] - 41s 2ms/step - loss: 0.5821 - accuracy: 0.6835 - val_loss: 0.3446 - val_accuracy: 0.8595\n",
      "Epoch 2/7\n",
      "22003/22003 [==============================] - 39s 2ms/step - loss: 0.3629 - accuracy: 0.8441 - val_loss: 0.2742 - val_accuracy: 0.8890\n",
      "Epoch 3/7\n",
      "22003/22003 [==============================] - 43s 2ms/step - loss: 0.2976 - accuracy: 0.8772 - val_loss: 0.2909 - val_accuracy: 0.8808\n",
      "Epoch 4/7\n",
      "22003/22003 [==============================] - 41s 2ms/step - loss: 0.2487 - accuracy: 0.9021 - val_loss: 0.3044 - val_accuracy: 0.8707\n",
      "Epoch 5/7\n",
      "22003/22003 [==============================] - 40s 2ms/step - loss: 0.2185 - accuracy: 0.9132 - val_loss: 0.3395 - val_accuracy: 0.8700\n",
      "Epoch 6/7\n",
      "22003/22003 [==============================] - 38s 2ms/step - loss: 0.1940 - accuracy: 0.9250 - val_loss: 0.3596 - val_accuracy: 0.8539\n",
      "Epoch 7/7\n",
      "22003/22003 [==============================] - 38s 2ms/step - loss: 0.1774 - accuracy: 0.9322 - val_loss: 0.3779 - val_accuracy: 0.8558\n"
     ]
    },
    {
     "name": "stderr",
     "output_type": "stream",
     "text": [
      "C:\\Users\\yiorg\\anaconda3\\envs\\dl\\lib\\site-packages\\tensorflow_core\\python\\framework\\indexed_slices.py:433: UserWarning: Converting sparse IndexedSlices to a dense Tensor of unknown shape. This may consume a large amount of memory.\n",
      "  \"Converting sparse IndexedSlices to a dense Tensor of unknown shape. \"\n"
     ]
    },
    {
     "name": "stdout",
     "output_type": "stream",
     "text": [
      "Train on 22003 samples, validate on 10838 samples\n",
      "Epoch 1/7\n",
      "22003/22003 [==============================] - 29s 1ms/step - loss: 0.6282 - accuracy: 0.6465 - val_loss: 0.5023 - val_accuracy: 0.7756\n",
      "Epoch 2/7\n",
      "22003/22003 [==============================] - 29s 1ms/step - loss: 0.4696 - accuracy: 0.7742 - val_loss: 0.3830 - val_accuracy: 0.8335\n",
      "Epoch 3/7\n",
      "22003/22003 [==============================] - 28s 1ms/step - loss: 0.3839 - accuracy: 0.8258 - val_loss: 0.3708 - val_accuracy: 0.8334\n",
      "Epoch 4/7\n",
      "22003/22003 [==============================] - 29s 1ms/step - loss: 0.3230 - accuracy: 0.8583 - val_loss: 0.3821 - val_accuracy: 0.8293\n",
      "Epoch 5/7\n",
      "22003/22003 [==============================] - 29s 1ms/step - loss: 0.2910 - accuracy: 0.8749 - val_loss: 0.5145 - val_accuracy: 0.7547\n",
      "Epoch 6/7\n",
      "22003/22003 [==============================] - 28s 1ms/step - loss: 0.2642 - accuracy: 0.8889 - val_loss: 0.5536 - val_accuracy: 0.7417\n",
      "Epoch 7/7\n",
      "22003/22003 [==============================] - 29s 1ms/step - loss: 0.2438 - accuracy: 0.8981 - val_loss: 0.5403 - val_accuracy: 0.7658\n"
     ]
    },
    {
     "name": "stderr",
     "output_type": "stream",
     "text": [
      "C:\\Users\\yiorg\\anaconda3\\envs\\dl\\lib\\site-packages\\tensorflow_core\\python\\framework\\indexed_slices.py:433: UserWarning: Converting sparse IndexedSlices to a dense Tensor of unknown shape. This may consume a large amount of memory.\n",
      "  \"Converting sparse IndexedSlices to a dense Tensor of unknown shape. \"\n"
     ]
    },
    {
     "name": "stdout",
     "output_type": "stream",
     "text": [
      "Train on 22003 samples, validate on 10838 samples\n",
      "Epoch 1/7\n",
      "22003/22003 [==============================] - 38s 2ms/step - loss: 0.6357 - accuracy: 0.6410 - val_loss: 0.4811 - val_accuracy: 0.8196\n",
      "Epoch 2/7\n",
      "22003/22003 [==============================] - 39s 2ms/step - loss: 0.4471 - accuracy: 0.7932 - val_loss: 0.3111 - val_accuracy: 0.8818\n",
      "Epoch 3/7\n",
      "22003/22003 [==============================] - 38s 2ms/step - loss: 0.3546 - accuracy: 0.8519 - val_loss: 0.3564 - val_accuracy: 0.8498\n",
      "Epoch 4/7\n",
      "22003/22003 [==============================] - 37s 2ms/step - loss: 0.3079 - accuracy: 0.8718 - val_loss: 0.6261 - val_accuracy: 0.6605\n",
      "Epoch 5/7\n",
      "22003/22003 [==============================] - 39s 2ms/step - loss: 0.2730 - accuracy: 0.8896 - val_loss: 0.7513 - val_accuracy: 0.6086\n",
      "Epoch 6/7\n",
      "22003/22003 [==============================] - 37s 2ms/step - loss: 0.2543 - accuracy: 0.8970 - val_loss: 1.1840 - val_accuracy: 0.4846\n",
      "Epoch 7/7\n",
      "22003/22003 [==============================] - 38s 2ms/step - loss: 0.2296 - accuracy: 0.9094 - val_loss: 1.7441 - val_accuracy: 0.4576\n"
     ]
    }
   ],
   "source": [
    "hl_lstm, hb_lstm = {}, {}\n",
    "for lstm_dropout in [0, 0.10, 0.25, 0.375, 0.50, 0.625, 0.75]:\n",
    "    lstm_kw['dropout'] = lstm_dropout\n",
    "    lstm = create_model(embedding, conv1d, lstm_kw, \n",
    "                        dropout_after_embedding=0.50,\n",
    "                        dropout_after_conv1d=0.10,\n",
    "                        dropout_after_lstm=0.0,\n",
    "                        bidirectional=False)\n",
    "    blstm = create_model(embedding, conv1d, lstm_kw, \n",
    "                         dropout_after_embedding=0.50,\n",
    "                         dropout_after_conv1d=0.25,\n",
    "                         dropout_after_lstm=0.0,\n",
    "                         bidirectional=True)\n",
    "    hl = lstm.fit(X_train, y_train, batch_size=64, epochs=7, validation_data=(X_test, y_test))\n",
    "    hb = blstm.fit(X_train, y_train, batch_size=64, epochs=7, validation_data=(X_test, y_test))\n",
    "    hl_acc, hb_acc = max(hl.history['val_accuracy']), max(hb.history['val_accuracy'])\n",
    "    hl_lstm[lstm_dropout] = hl_acc\n",
    "    hb_lstm[lstm_dropout] = hb_acc "
   ]
  },
  {
   "cell_type": "code",
   "execution_count": 123,
   "metadata": {},
   "outputs": [],
   "source": [
    "hl_lstm = pd.Series(hl_lstm, name='lstm_acc')\n",
    "hb_lstm = pd.Series(hb_lstm, name='blstm_acc')\n",
    "\n",
    "pd.to_pickle(hl_lstm, \"hl_lstm_dropout.pkl\")\n",
    "pd.to_pickle(hb_lstm, \"hb_lstm_dropout.pkl\")"
   ]
  },
  {
   "cell_type": "code",
   "execution_count": 127,
   "metadata": {},
   "outputs": [
    {
     "data": {
      "text/html": [
       "<div>\n",
       "<style scoped>\n",
       "    .dataframe tbody tr th:only-of-type {\n",
       "        vertical-align: middle;\n",
       "    }\n",
       "\n",
       "    .dataframe tbody tr th {\n",
       "        vertical-align: top;\n",
       "    }\n",
       "\n",
       "    .dataframe thead th {\n",
       "        text-align: right;\n",
       "    }\n",
       "</style>\n",
       "<table border=\"1\" class=\"dataframe\">\n",
       "  <thead>\n",
       "    <tr style=\"text-align: right;\">\n",
       "      <th></th>\n",
       "      <th>lstm</th>\n",
       "      <th>blstm</th>\n",
       "    </tr>\n",
       "  </thead>\n",
       "  <tbody>\n",
       "    <tr>\n",
       "      <th>0.000</th>\n",
       "      <td>0.893154</td>\n",
       "      <td>0.892139</td>\n",
       "    </tr>\n",
       "    <tr>\n",
       "      <th>0.100</th>\n",
       "      <td>0.898044</td>\n",
       "      <td>0.903211</td>\n",
       "    </tr>\n",
       "    <tr>\n",
       "      <th>0.250</th>\n",
       "      <td>0.898228</td>\n",
       "      <td>0.896752</td>\n",
       "    </tr>\n",
       "    <tr>\n",
       "      <th>0.375</th>\n",
       "      <td>0.900720</td>\n",
       "      <td>0.891862</td>\n",
       "    </tr>\n",
       "    <tr>\n",
       "      <th>0.500</th>\n",
       "      <td>0.889278</td>\n",
       "      <td>0.889555</td>\n",
       "    </tr>\n",
       "    <tr>\n",
       "      <th>0.625</th>\n",
       "      <td>0.858369</td>\n",
       "      <td>0.889002</td>\n",
       "    </tr>\n",
       "    <tr>\n",
       "      <th>0.750</th>\n",
       "      <td>0.833549</td>\n",
       "      <td>0.881805</td>\n",
       "    </tr>\n",
       "  </tbody>\n",
       "</table>\n",
       "</div>"
      ],
      "text/plain": [
       "           lstm     blstm\n",
       "0.000  0.893154  0.892139\n",
       "0.100  0.898044  0.903211\n",
       "0.250  0.898228  0.896752\n",
       "0.375  0.900720  0.891862\n",
       "0.500  0.889278  0.889555\n",
       "0.625  0.858369  0.889002\n",
       "0.750  0.833549  0.881805"
      ]
     },
     "execution_count": 127,
     "metadata": {},
     "output_type": "execute_result"
    }
   ],
   "source": [
    "pd.DataFrame({'lstm':hl_lstm, 'blstm':hb_lstm})"
   ]
  },
  {
   "cell_type": "code",
   "execution_count": 128,
   "metadata": {},
   "outputs": [
    {
     "data": {
      "image/png": "[encoded data removed]",
      "text/plain": [
       "<Figure size 864x288 with 1 Axes>"
      ]
     },
     "metadata": {
      "needs_background": "light"
     },
     "output_type": "display_data"
    }
   ],
   "source": [
    "plt.figure(figsize=(12, 4))\n",
    "hl_lstm.plot(label='lstm', marker='o')\n",
    "hb_lstm.plot(label='blstm', marker='*')\n",
    "plt.legend(fancybox=True, shadow=True)\n",
    "plt.grid()\n",
    "plt.xlabel(\"lstm dropout\")\n",
    "plt.ylabel(\"accuracy\")\n",
    "plt.title(\"LSTM Internal Dropout VS Accuracy\");"
   ]
  },
  {
   "cell_type": "code",
   "execution_count": 136,
   "metadata": {},
   "outputs": [
    {
     "name": "stderr",
     "output_type": "stream",
     "text": [
      "C:\\Users\\yiorg\\anaconda3\\envs\\dl\\lib\\site-packages\\tensorflow_core\\python\\framework\\indexed_slices.py:433: UserWarning: Converting sparse IndexedSlices to a dense Tensor of unknown shape. This may consume a large amount of memory.\n",
      "  \"Converting sparse IndexedSlices to a dense Tensor of unknown shape. \"\n"
     ]
    },
    {
     "name": "stdout",
     "output_type": "stream",
     "text": [
      "Train on 22003 samples, validate on 10838 samples\n",
      "Epoch 1/5\n",
      "22003/22003 [==============================] - 35s 2ms/step - loss: 0.5334 - accuracy: 0.7229 - val_loss: 0.3310 - val_accuracy: 0.8644\n",
      "Epoch 2/5\n",
      "22003/22003 [==============================] - 34s 2ms/step - loss: 0.3305 - accuracy: 0.8597 - val_loss: 0.2820 - val_accuracy: 0.8873\n",
      "Epoch 3/5\n",
      "22003/22003 [==============================] - 36s 2ms/step - loss: 0.2719 - accuracy: 0.8898 - val_loss: 0.2674 - val_accuracy: 0.8920\n",
      "Epoch 4/5\n",
      "22003/22003 [==============================] - 35s 2ms/step - loss: 0.2224 - accuracy: 0.9103 - val_loss: 0.2984 - val_accuracy: 0.8840\n",
      "Epoch 5/5\n",
      "22003/22003 [==============================] - 33s 2ms/step - loss: 0.1952 - accuracy: 0.9241 - val_loss: 0.3046 - val_accuracy: 0.8770\n"
     ]
    },
    {
     "name": "stderr",
     "output_type": "stream",
     "text": [
      "C:\\Users\\yiorg\\anaconda3\\envs\\dl\\lib\\site-packages\\tensorflow_core\\python\\framework\\indexed_slices.py:433: UserWarning: Converting sparse IndexedSlices to a dense Tensor of unknown shape. This may consume a large amount of memory.\n",
      "  \"Converting sparse IndexedSlices to a dense Tensor of unknown shape. \"\n"
     ]
    },
    {
     "name": "stdout",
     "output_type": "stream",
     "text": [
      "Train on 22003 samples, validate on 10838 samples\n",
      "Epoch 1/5\n",
      "22003/22003 [==============================] - 49s 2ms/step - loss: 0.5032 - accuracy: 0.7487 - val_loss: 0.3052 - val_accuracy: 0.8779\n",
      "Epoch 2/5\n",
      "22003/22003 [==============================] - 48s 2ms/step - loss: 0.2713 - accuracy: 0.8892 - val_loss: 0.2679 - val_accuracy: 0.8854\n",
      "Epoch 3/5\n",
      "22003/22003 [==============================] - 46s 2ms/step - loss: 0.2016 - accuracy: 0.9220 - val_loss: 0.2547 - val_accuracy: 0.8978\n",
      "Epoch 4/5\n",
      "22003/22003 [==============================] - 46s 2ms/step - loss: 0.1663 - accuracy: 0.9358 - val_loss: 0.2558 - val_accuracy: 0.8970\n",
      "Epoch 5/5\n",
      "22003/22003 [==============================] - 48s 2ms/step - loss: 0.1366 - accuracy: 0.9471 - val_loss: 0.2771 - val_accuracy: 0.8920\n"
     ]
    },
    {
     "name": "stderr",
     "output_type": "stream",
     "text": [
      "C:\\Users\\yiorg\\anaconda3\\envs\\dl\\lib\\site-packages\\tensorflow_core\\python\\framework\\indexed_slices.py:433: UserWarning: Converting sparse IndexedSlices to a dense Tensor of unknown shape. This may consume a large amount of memory.\n",
      "  \"Converting sparse IndexedSlices to a dense Tensor of unknown shape. \"\n"
     ]
    },
    {
     "name": "stdout",
     "output_type": "stream",
     "text": [
      "Train on 22003 samples, validate on 10838 samples\n",
      "Epoch 1/5\n",
      "22003/22003 [==============================] - 34s 2ms/step - loss: 0.5478 - accuracy: 0.7151 - val_loss: 0.3210 - val_accuracy: 0.8695\n",
      "Epoch 2/5\n",
      "22003/22003 [==============================] - 34s 2ms/step - loss: 0.3423 - accuracy: 0.8546 - val_loss: 0.2722 - val_accuracy: 0.8908\n",
      "Epoch 3/5\n",
      "22003/22003 [==============================] - 32s 1ms/step - loss: 0.2700 - accuracy: 0.8906 - val_loss: 0.2688 - val_accuracy: 0.8911\n",
      "Epoch 4/5\n",
      "22003/22003 [==============================] - 33s 2ms/step - loss: 0.2240 - accuracy: 0.9117 - val_loss: 0.2776 - val_accuracy: 0.8878\n",
      "Epoch 5/5\n",
      "22003/22003 [==============================] - 32s 1ms/step - loss: 0.1855 - accuracy: 0.9279 - val_loss: 0.2950 - val_accuracy: 0.8817\n"
     ]
    },
    {
     "name": "stderr",
     "output_type": "stream",
     "text": [
      "C:\\Users\\yiorg\\anaconda3\\envs\\dl\\lib\\site-packages\\tensorflow_core\\python\\framework\\indexed_slices.py:433: UserWarning: Converting sparse IndexedSlices to a dense Tensor of unknown shape. This may consume a large amount of memory.\n",
      "  \"Converting sparse IndexedSlices to a dense Tensor of unknown shape. \"\n"
     ]
    },
    {
     "name": "stdout",
     "output_type": "stream",
     "text": [
      "Train on 22003 samples, validate on 10838 samples\n",
      "Epoch 1/5\n",
      "22003/22003 [==============================] - 48s 2ms/step - loss: 0.5355 - accuracy: 0.7253 - val_loss: 0.3569 - val_accuracy: 0.8466\n",
      "Epoch 2/5\n",
      "22003/22003 [==============================] - 44s 2ms/step - loss: 0.3203 - accuracy: 0.8618 - val_loss: 0.3121 - val_accuracy: 0.8646\n",
      "Epoch 3/5\n",
      "22003/22003 [==============================] - 45s 2ms/step - loss: 0.2726 - accuracy: 0.8884 - val_loss: 0.3055 - val_accuracy: 0.8674\n",
      "Epoch 4/5\n",
      "22003/22003 [==============================] - 46s 2ms/step - loss: 0.2290 - accuracy: 0.9076 - val_loss: 0.3051 - val_accuracy: 0.8690\n",
      "Epoch 5/5\n",
      "22003/22003 [==============================] - 47s 2ms/step - loss: 0.2030 - accuracy: 0.9193 - val_loss: 0.3308 - val_accuracy: 0.8560\n"
     ]
    },
    {
     "name": "stderr",
     "output_type": "stream",
     "text": [
      "C:\\Users\\yiorg\\anaconda3\\envs\\dl\\lib\\site-packages\\tensorflow_core\\python\\framework\\indexed_slices.py:433: UserWarning: Converting sparse IndexedSlices to a dense Tensor of unknown shape. This may consume a large amount of memory.\n",
      "  \"Converting sparse IndexedSlices to a dense Tensor of unknown shape. \"\n"
     ]
    },
    {
     "name": "stdout",
     "output_type": "stream",
     "text": [
      "Train on 22003 samples, validate on 10838 samples\n",
      "Epoch 1/5\n",
      "22003/22003 [==============================] - 35s 2ms/step - loss: 0.5567 - accuracy: 0.7048 - val_loss: 0.3808 - val_accuracy: 0.8386\n",
      "Epoch 2/5\n",
      "22003/22003 [==============================] - 34s 2ms/step - loss: 0.3805 - accuracy: 0.8355 - val_loss: 0.3392 - val_accuracy: 0.8583\n",
      "Epoch 3/5\n",
      "22003/22003 [==============================] - 33s 1ms/step - loss: 0.3182 - accuracy: 0.8678 - val_loss: 0.3083 - val_accuracy: 0.8684\n",
      "Epoch 4/5\n",
      "22003/22003 [==============================] - 33s 1ms/step - loss: 0.2834 - accuracy: 0.8818 - val_loss: 0.3232 - val_accuracy: 0.8603\n",
      "Epoch 5/5\n",
      "22003/22003 [==============================] - 33s 1ms/step - loss: 0.2512 - accuracy: 0.8980 - val_loss: 0.3404 - val_accuracy: 0.8507\n"
     ]
    },
    {
     "name": "stderr",
     "output_type": "stream",
     "text": [
      "C:\\Users\\yiorg\\anaconda3\\envs\\dl\\lib\\site-packages\\tensorflow_core\\python\\framework\\indexed_slices.py:433: UserWarning: Converting sparse IndexedSlices to a dense Tensor of unknown shape. This may consume a large amount of memory.\n",
      "  \"Converting sparse IndexedSlices to a dense Tensor of unknown shape. \"\n"
     ]
    },
    {
     "name": "stdout",
     "output_type": "stream",
     "text": [
      "Train on 22003 samples, validate on 10838 samples\n",
      "Epoch 1/5\n",
      "22003/22003 [==============================] - 45s 2ms/step - loss: 0.5174 - accuracy: 0.7369 - val_loss: 0.3087 - val_accuracy: 0.8713\n",
      "Epoch 2/5\n",
      "22003/22003 [==============================] - 43s 2ms/step - loss: 0.2991 - accuracy: 0.8762 - val_loss: 0.2855 - val_accuracy: 0.8822\n",
      "Epoch 3/5\n",
      "22003/22003 [==============================] - 45s 2ms/step - loss: 0.2372 - accuracy: 0.9074 - val_loss: 0.2692 - val_accuracy: 0.8912\n",
      "Epoch 4/5\n",
      "22003/22003 [==============================] - 45s 2ms/step - loss: 0.2021 - accuracy: 0.9221 - val_loss: 0.2718 - val_accuracy: 0.8908\n",
      "Epoch 5/5\n",
      "22003/22003 [==============================] - 45s 2ms/step - loss: 0.1655 - accuracy: 0.9354 - val_loss: 0.2894 - val_accuracy: 0.8905\n"
     ]
    },
    {
     "name": "stderr",
     "output_type": "stream",
     "text": [
      "C:\\Users\\yiorg\\anaconda3\\envs\\dl\\lib\\site-packages\\tensorflow_core\\python\\framework\\indexed_slices.py:433: UserWarning: Converting sparse IndexedSlices to a dense Tensor of unknown shape. This may consume a large amount of memory.\n",
      "  \"Converting sparse IndexedSlices to a dense Tensor of unknown shape. \"\n"
     ]
    },
    {
     "name": "stdout",
     "output_type": "stream",
     "text": [
      "Train on 22003 samples, validate on 10838 samples\n",
      "Epoch 1/5\n",
      "22003/22003 [==============================] - 33s 1ms/step - loss: 0.5692 - accuracy: 0.6987 - val_loss: 0.3823 - val_accuracy: 0.8390\n",
      "Epoch 2/5\n",
      "22003/22003 [==============================] - 31s 1ms/step - loss: 0.3982 - accuracy: 0.8279 - val_loss: 0.3377 - val_accuracy: 0.8583\n",
      "Epoch 3/5\n",
      "22003/22003 [==============================] - 32s 1ms/step - loss: 0.3374 - accuracy: 0.8572 - val_loss: 0.3299 - val_accuracy: 0.8593\n",
      "Epoch 4/5\n",
      "22003/22003 [==============================] - 32s 1ms/step - loss: 0.2916 - accuracy: 0.8783 - val_loss: 0.3449 - val_accuracy: 0.8493\n",
      "Epoch 5/5\n",
      "22003/22003 [==============================] - 32s 1ms/step - loss: 0.2624 - accuracy: 0.8926 - val_loss: 0.3373 - val_accuracy: 0.8541\n"
     ]
    },
    {
     "name": "stderr",
     "output_type": "stream",
     "text": [
      "C:\\Users\\yiorg\\anaconda3\\envs\\dl\\lib\\site-packages\\tensorflow_core\\python\\framework\\indexed_slices.py:433: UserWarning: Converting sparse IndexedSlices to a dense Tensor of unknown shape. This may consume a large amount of memory.\n",
      "  \"Converting sparse IndexedSlices to a dense Tensor of unknown shape. \"\n"
     ]
    },
    {
     "name": "stdout",
     "output_type": "stream",
     "text": [
      "Train on 22003 samples, validate on 10838 samples\n",
      "Epoch 1/5\n",
      "22003/22003 [==============================] - 46s 2ms/step - loss: 0.5461 - accuracy: 0.7168 - val_loss: 0.3444 - val_accuracy: 0.8542\n",
      "Epoch 2/5\n",
      "22003/22003 [==============================] - 43s 2ms/step - loss: 0.3297 - accuracy: 0.8645 - val_loss: 0.2888 - val_accuracy: 0.8815\n",
      "Epoch 3/5\n",
      "22003/22003 [==============================] - 42s 2ms/step - loss: 0.2440 - accuracy: 0.9027 - val_loss: 0.2726 - val_accuracy: 0.8873\n",
      "Epoch 4/5\n",
      "22003/22003 [==============================] - 43s 2ms/step - loss: 0.1981 - accuracy: 0.9225 - val_loss: 0.2789 - val_accuracy: 0.8915\n",
      "Epoch 5/5\n",
      "22003/22003 [==============================] - 44s 2ms/step - loss: 0.1669 - accuracy: 0.9362 - val_loss: 0.2843 - val_accuracy: 0.8910\n"
     ]
    },
    {
     "name": "stderr",
     "output_type": "stream",
     "text": [
      "C:\\Users\\yiorg\\anaconda3\\envs\\dl\\lib\\site-packages\\tensorflow_core\\python\\framework\\indexed_slices.py:433: UserWarning: Converting sparse IndexedSlices to a dense Tensor of unknown shape. This may consume a large amount of memory.\n",
      "  \"Converting sparse IndexedSlices to a dense Tensor of unknown shape. \"\n"
     ]
    },
    {
     "name": "stdout",
     "output_type": "stream",
     "text": [
      "Train on 22003 samples, validate on 10838 samples\n",
      "Epoch 1/5\n",
      "22003/22003 [==============================] - 32s 1ms/step - loss: 0.6017 - accuracy: 0.6690 - val_loss: 0.4301 - val_accuracy: 0.8124\n",
      "Epoch 2/5\n",
      "22003/22003 [==============================] - 31s 1ms/step - loss: 0.4153 - accuracy: 0.8166 - val_loss: 0.3252 - val_accuracy: 0.8658\n",
      "Epoch 3/5\n",
      "22003/22003 [==============================] - 32s 1ms/step - loss: 0.3299 - accuracy: 0.8652 - val_loss: 0.3128 - val_accuracy: 0.8679\n",
      "Epoch 4/5\n",
      "22003/22003 [==============================] - 32s 1ms/step - loss: 0.2745 - accuracy: 0.8914 - val_loss: 0.3135 - val_accuracy: 0.8675\n",
      "Epoch 5/5\n",
      "22003/22003 [==============================] - 31s 1ms/step - loss: 0.2351 - accuracy: 0.9083 - val_loss: 0.3181 - val_accuracy: 0.8674\n"
     ]
    },
    {
     "name": "stderr",
     "output_type": "stream",
     "text": [
      "C:\\Users\\yiorg\\anaconda3\\envs\\dl\\lib\\site-packages\\tensorflow_core\\python\\framework\\indexed_slices.py:433: UserWarning: Converting sparse IndexedSlices to a dense Tensor of unknown shape. This may consume a large amount of memory.\n",
      "  \"Converting sparse IndexedSlices to a dense Tensor of unknown shape. \"\n"
     ]
    },
    {
     "name": "stdout",
     "output_type": "stream",
     "text": [
      "Train on 22003 samples, validate on 10838 samples\n",
      "Epoch 1/5\n",
      "22003/22003 [==============================] - 45s 2ms/step - loss: 0.5617 - accuracy: 0.7075 - val_loss: 0.3599 - val_accuracy: 0.8488\n",
      "Epoch 2/5\n",
      "22003/22003 [==============================] - 44s 2ms/step - loss: 0.3574 - accuracy: 0.8496 - val_loss: 0.2991 - val_accuracy: 0.8770\n",
      "Epoch 3/5\n",
      "22003/22003 [==============================] - 43s 2ms/step - loss: 0.2719 - accuracy: 0.8923 - val_loss: 0.2972 - val_accuracy: 0.8823\n",
      "Epoch 4/5\n",
      "22003/22003 [==============================] - 43s 2ms/step - loss: 0.2361 - accuracy: 0.9076 - val_loss: 0.2837 - val_accuracy: 0.8844\n",
      "Epoch 5/5\n",
      "22003/22003 [==============================] - 43s 2ms/step - loss: 0.2025 - accuracy: 0.9234 - val_loss: 0.2883 - val_accuracy: 0.8799\n"
     ]
    },
    {
     "name": "stderr",
     "output_type": "stream",
     "text": [
      "C:\\Users\\yiorg\\anaconda3\\envs\\dl\\lib\\site-packages\\tensorflow_core\\python\\framework\\indexed_slices.py:433: UserWarning: Converting sparse IndexedSlices to a dense Tensor of unknown shape. This may consume a large amount of memory.\n",
      "  \"Converting sparse IndexedSlices to a dense Tensor of unknown shape. \"\n"
     ]
    },
    {
     "name": "stdout",
     "output_type": "stream",
     "text": [
      "Train on 22003 samples, validate on 10838 samples\n",
      "Epoch 1/5\n",
      "22003/22003 [==============================] - 33s 2ms/step - loss: 0.5995 - accuracy: 0.6775 - val_loss: 0.4080 - val_accuracy: 0.8201\n",
      "Epoch 2/5\n",
      "22003/22003 [==============================] - 32s 1ms/step - loss: 0.4328 - accuracy: 0.8048 - val_loss: 0.3325 - val_accuracy: 0.8559\n",
      "Epoch 3/5\n",
      "22003/22003 [==============================] - 32s 1ms/step - loss: 0.3566 - accuracy: 0.8511 - val_loss: 0.3354 - val_accuracy: 0.8572\n",
      "Epoch 4/5\n",
      "22003/22003 [==============================] - 31s 1ms/step - loss: 0.3005 - accuracy: 0.8796 - val_loss: 0.3285 - val_accuracy: 0.8578\n",
      "Epoch 5/5\n",
      "22003/22003 [==============================] - 32s 1ms/step - loss: 0.2623 - accuracy: 0.8959 - val_loss: 0.3283 - val_accuracy: 0.8630\n"
     ]
    },
    {
     "name": "stderr",
     "output_type": "stream",
     "text": [
      "C:\\Users\\yiorg\\anaconda3\\envs\\dl\\lib\\site-packages\\tensorflow_core\\python\\framework\\indexed_slices.py:433: UserWarning: Converting sparse IndexedSlices to a dense Tensor of unknown shape. This may consume a large amount of memory.\n",
      "  \"Converting sparse IndexedSlices to a dense Tensor of unknown shape. \"\n"
     ]
    },
    {
     "name": "stdout",
     "output_type": "stream",
     "text": [
      "Train on 22003 samples, validate on 10838 samples\n",
      "Epoch 1/5\n",
      "22003/22003 [==============================] - 52s 2ms/step - loss: 0.6108 - accuracy: 0.6667 - val_loss: 0.4234 - val_accuracy: 0.8124\n",
      "Epoch 2/5\n",
      "22003/22003 [==============================] - 50s 2ms/step - loss: 0.4058 - accuracy: 0.8233 - val_loss: 0.3313 - val_accuracy: 0.8544\n",
      "Epoch 3/5\n",
      "22003/22003 [==============================] - 52s 2ms/step - loss: 0.3094 - accuracy: 0.8743 - val_loss: 0.3253 - val_accuracy: 0.8642\n",
      "Epoch 4/5\n",
      "22003/22003 [==============================] - 51s 2ms/step - loss: 0.2598 - accuracy: 0.8993 - val_loss: 0.3154 - val_accuracy: 0.8750\n",
      "Epoch 5/5\n",
      "22003/22003 [==============================] - 50s 2ms/step - loss: 0.2186 - accuracy: 0.9165 - val_loss: 0.3291 - val_accuracy: 0.8739\n"
     ]
    },
    {
     "name": "stderr",
     "output_type": "stream",
     "text": [
      "C:\\Users\\yiorg\\anaconda3\\envs\\dl\\lib\\site-packages\\tensorflow_core\\python\\framework\\indexed_slices.py:433: UserWarning: Converting sparse IndexedSlices to a dense Tensor of unknown shape. This may consume a large amount of memory.\n",
      "  \"Converting sparse IndexedSlices to a dense Tensor of unknown shape. \"\n"
     ]
    },
    {
     "name": "stdout",
     "output_type": "stream",
     "text": [
      "Train on 22003 samples, validate on 10838 samples\n",
      "Epoch 1/5\n",
      "22003/22003 [==============================] - 36s 2ms/step - loss: 0.6276 - accuracy: 0.6480 - val_loss: 0.4840 - val_accuracy: 0.7697\n",
      "Epoch 2/5\n",
      "22003/22003 [==============================] - 34s 2ms/step - loss: 0.4706 - accuracy: 0.7828 - val_loss: 0.3730 - val_accuracy: 0.8376\n",
      "Epoch 3/5\n",
      "22003/22003 [==============================] - 35s 2ms/step - loss: 0.3853 - accuracy: 0.8330 - val_loss: 0.3456 - val_accuracy: 0.8526\n",
      "Epoch 4/5\n",
      "22003/22003 [==============================] - 35s 2ms/step - loss: 0.3185 - accuracy: 0.8688 - val_loss: 0.3474 - val_accuracy: 0.8549\n",
      "Epoch 5/5\n",
      "22003/22003 [==============================] - 35s 2ms/step - loss: 0.2816 - accuracy: 0.8863 - val_loss: 0.3307 - val_accuracy: 0.8643\n"
     ]
    },
    {
     "name": "stderr",
     "output_type": "stream",
     "text": [
      "C:\\Users\\yiorg\\anaconda3\\envs\\dl\\lib\\site-packages\\tensorflow_core\\python\\framework\\indexed_slices.py:433: UserWarning: Converting sparse IndexedSlices to a dense Tensor of unknown shape. This may consume a large amount of memory.\n",
      "  \"Converting sparse IndexedSlices to a dense Tensor of unknown shape. \"\n"
     ]
    },
    {
     "name": "stdout",
     "output_type": "stream",
     "text": [
      "Train on 22003 samples, validate on 10838 samples\n",
      "Epoch 1/5\n",
      "22003/22003 [==============================] - 50s 2ms/step - loss: 0.6477 - accuracy: 0.6290 - val_loss: 0.5031 - val_accuracy: 0.7612\n",
      "Epoch 2/5\n",
      "22003/22003 [==============================] - 50s 2ms/step - loss: 0.4641 - accuracy: 0.7868 - val_loss: 0.3743 - val_accuracy: 0.8395\n",
      "Epoch 3/5\n",
      "22003/22003 [==============================] - 51s 2ms/step - loss: 0.3374 - accuracy: 0.8602 - val_loss: 0.3203 - val_accuracy: 0.8661\n",
      "Epoch 4/5\n",
      "22003/22003 [==============================] - 49s 2ms/step - loss: 0.2600 - accuracy: 0.8968 - val_loss: 0.3041 - val_accuracy: 0.8755\n",
      "Epoch 5/5\n",
      "22003/22003 [==============================] - 51s 2ms/step - loss: 0.2077 - accuracy: 0.9222 - val_loss: 0.3000 - val_accuracy: 0.8806\n"
     ]
    }
   ],
   "source": [
    "hl_lstm_recurr, hb_lstm_recurr = {}, {}\n",
    "for lstm_recurr_dropout in [0, 0.10, 0.25, 0.375, 0.50, 0.625, 0.75]:\n",
    "    lstm_kw['recurrent_dropout'] = lstm_recurr_dropout\n",
    "    lstm_kw['dropout'] = 0.375\n",
    "    lstm = create_model(embedding, conv1d, lstm_kw, \n",
    "                        dropout_after_embedding=0.50,\n",
    "                        dropout_after_conv1d=0.10,\n",
    "                        dropout_after_lstm=0.0,\n",
    "                        bidirectional=False)\n",
    "    lstm_kw['dropout'] = 0.10\n",
    "    blstm = create_model(embedding, conv1d, lstm_kw, \n",
    "                         dropout_after_embedding=0.50,\n",
    "                         dropout_after_conv1d=0.25,\n",
    "                         dropout_after_lstm=0.0,\n",
    "                         bidirectional=True)\n",
    "    hl = lstm.fit(X_train, y_train, batch_size=64, epochs=5, validation_data=(X_test, y_test))\n",
    "    hb = blstm.fit(X_train, y_train, batch_size=64, epochs=5, validation_data=(X_test, y_test))\n",
    "    hl_acc, hb_acc = max(hl.history['val_accuracy']), max(hb.history['val_accuracy'])\n",
    "    hl_lstm_recurr[lstm_recurr_dropout] = hl_acc\n",
    "    hb_lstm_recurr[lstm_recurr_dropout] = hb_acc "
   ]
  },
  {
   "cell_type": "code",
   "execution_count": 137,
   "metadata": {},
   "outputs": [
    {
     "data": {
      "text/html": [
       "<div>\n",
       "<style scoped>\n",
       "    .dataframe tbody tr th:only-of-type {\n",
       "        vertical-align: middle;\n",
       "    }\n",
       "\n",
       "    .dataframe tbody tr th {\n",
       "        vertical-align: top;\n",
       "    }\n",
       "\n",
       "    .dataframe thead th {\n",
       "        text-align: right;\n",
       "    }\n",
       "</style>\n",
       "<table border=\"1\" class=\"dataframe\">\n",
       "  <thead>\n",
       "    <tr style=\"text-align: right;\">\n",
       "      <th></th>\n",
       "      <th>lstm</th>\n",
       "      <th>blstm</th>\n",
       "    </tr>\n",
       "  </thead>\n",
       "  <tbody>\n",
       "    <tr>\n",
       "      <th>0.000</th>\n",
       "      <td>0.891954</td>\n",
       "      <td>0.897767</td>\n",
       "    </tr>\n",
       "    <tr>\n",
       "      <th>0.100</th>\n",
       "      <td>0.891124</td>\n",
       "      <td>0.868980</td>\n",
       "    </tr>\n",
       "    <tr>\n",
       "      <th>0.250</th>\n",
       "      <td>0.868426</td>\n",
       "      <td>0.891216</td>\n",
       "    </tr>\n",
       "    <tr>\n",
       "      <th>0.375</th>\n",
       "      <td>0.859291</td>\n",
       "      <td>0.891493</td>\n",
       "    </tr>\n",
       "    <tr>\n",
       "      <th>0.500</th>\n",
       "      <td>0.867872</td>\n",
       "      <td>0.884388</td>\n",
       "    </tr>\n",
       "    <tr>\n",
       "      <th>0.625</th>\n",
       "      <td>0.862982</td>\n",
       "      <td>0.874977</td>\n",
       "    </tr>\n",
       "    <tr>\n",
       "      <th>0.750</th>\n",
       "      <td>0.864274</td>\n",
       "      <td>0.880605</td>\n",
       "    </tr>\n",
       "  </tbody>\n",
       "</table>\n",
       "</div>"
      ],
      "text/plain": [
       "           lstm     blstm\n",
       "0.000  0.891954  0.897767\n",
       "0.100  0.891124  0.868980\n",
       "0.250  0.868426  0.891216\n",
       "0.375  0.859291  0.891493\n",
       "0.500  0.867872  0.884388\n",
       "0.625  0.862982  0.874977\n",
       "0.750  0.864274  0.880605"
      ]
     },
     "execution_count": 137,
     "metadata": {},
     "output_type": "execute_result"
    }
   ],
   "source": [
    "hl_lstm_recurr = pd.Series(hl_lstm_recurr, name='lstm_recurr_acc')\n",
    "hb_lstm_recurr = pd.Series(hb_lstm_recurr, name='blstm_recurr_acc')\n",
    "\n",
    "pd.to_pickle(hl_lstm_recurr, \"hl_lstm_recurr_dropout.pkl\")\n",
    "pd.to_pickle(hb_lstm_recurr, \"hb_lstm_recurr_dropout.pkl\")\n",
    "pd.DataFrame({'lstm':hl_lstm_recurr, 'blstm':hb_lstm_recurr})"
   ]
  },
  {
   "cell_type": "code",
   "execution_count": 138,
   "metadata": {},
   "outputs": [
    {
     "data": {
      "image/png": "[encoded data removed]",
      "text/plain": [
       "<Figure size 864x288 with 1 Axes>"
      ]
     },
     "metadata": {
      "needs_background": "light"
     },
     "output_type": "display_data"
    }
   ],
   "source": [
    "plt.figure(figsize=(12, 4))\n",
    "hl_lstm_recurr.plot(label='lstm', marker='o')\n",
    "hb_lstm_recurr.plot(label='blstm', marker='*')\n",
    "plt.legend(fancybox=True, shadow=True)\n",
    "plt.grid()\n",
    "plt.xlabel(\"dropout\")\n",
    "plt.ylabel(\"accuracy\")\n",
    "plt.title(\"LSTM Recurrent Dropout VS Accuracy\");"
   ]
  },
  {
   "cell_type": "code",
   "execution_count": 140,
   "metadata": {},
   "outputs": [
    {
     "name": "stderr",
     "output_type": "stream",
     "text": [
      "C:\\Users\\yiorg\\anaconda3\\envs\\dl\\lib\\site-packages\\tensorflow_core\\python\\framework\\indexed_slices.py:433: UserWarning: Converting sparse IndexedSlices to a dense Tensor of unknown shape. This may consume a large amount of memory.\n",
      "  \"Converting sparse IndexedSlices to a dense Tensor of unknown shape. \"\n"
     ]
    },
    {
     "name": "stdout",
     "output_type": "stream",
     "text": [
      "Train on 22003 samples, validate on 10838 samples\n",
      "Epoch 1/5\n",
      "22003/22003 [==============================] - 34s 2ms/step - loss: 0.5176 - accuracy: 0.7343 - val_loss: 0.2950 - val_accuracy: 0.8803\n",
      "Epoch 2/5\n",
      "22003/22003 [==============================] - 34s 2ms/step - loss: 0.3058 - accuracy: 0.8718 - val_loss: 0.2529 - val_accuracy: 0.8979\n",
      "Epoch 3/5\n",
      "22003/22003 [==============================] - 33s 2ms/step - loss: 0.2288 - accuracy: 0.9070 - val_loss: 0.2600 - val_accuracy: 0.8920\n",
      "Epoch 4/5\n",
      "22003/22003 [==============================] - 34s 2ms/step - loss: 0.1841 - accuracy: 0.9276 - val_loss: 0.2693 - val_accuracy: 0.8905\n",
      "Epoch 5/5\n",
      "22003/22003 [==============================] - 34s 2ms/step - loss: 0.1553 - accuracy: 0.9401 - val_loss: 0.2929 - val_accuracy: 0.8785\n"
     ]
    },
    {
     "name": "stderr",
     "output_type": "stream",
     "text": [
      "C:\\Users\\yiorg\\anaconda3\\envs\\dl\\lib\\site-packages\\tensorflow_core\\python\\framework\\indexed_slices.py:433: UserWarning: Converting sparse IndexedSlices to a dense Tensor of unknown shape. This may consume a large amount of memory.\n",
      "  \"Converting sparse IndexedSlices to a dense Tensor of unknown shape. \"\n"
     ]
    },
    {
     "name": "stdout",
     "output_type": "stream",
     "text": [
      "Train on 22003 samples, validate on 10838 samples\n",
      "Epoch 1/5\n",
      "22003/22003 [==============================] - 50s 2ms/step - loss: 0.5008 - accuracy: 0.7481 - val_loss: 0.3101 - val_accuracy: 0.8701\n",
      "Epoch 2/5\n",
      "22003/22003 [==============================] - 48s 2ms/step - loss: 0.2515 - accuracy: 0.9006 - val_loss: 0.2466 - val_accuracy: 0.9002\n",
      "Epoch 3/5\n",
      "22003/22003 [==============================] - 46s 2ms/step - loss: 0.1935 - accuracy: 0.9247 - val_loss: 0.2482 - val_accuracy: 0.8981\n",
      "Epoch 4/5\n",
      "22003/22003 [==============================] - 47s 2ms/step - loss: 0.1506 - accuracy: 0.9418 - val_loss: 0.2624 - val_accuracy: 0.8979\n",
      "Epoch 5/5\n",
      "22003/22003 [==============================] - 47s 2ms/step - loss: 0.1201 - accuracy: 0.9557 - val_loss: 0.2888 - val_accuracy: 0.8910\n"
     ]
    },
    {
     "name": "stderr",
     "output_type": "stream",
     "text": [
      "C:\\Users\\yiorg\\anaconda3\\envs\\dl\\lib\\site-packages\\tensorflow_core\\python\\framework\\indexed_slices.py:433: UserWarning: Converting sparse IndexedSlices to a dense Tensor of unknown shape. This may consume a large amount of memory.\n",
      "  \"Converting sparse IndexedSlices to a dense Tensor of unknown shape. \"\n"
     ]
    },
    {
     "name": "stdout",
     "output_type": "stream",
     "text": [
      "Train on 22003 samples, validate on 10838 samples\n",
      "Epoch 1/5\n",
      "22003/22003 [==============================] - 35s 2ms/step - loss: 0.5324 - accuracy: 0.7275 - val_loss: 0.3367 - val_accuracy: 0.8715\n",
      "Epoch 2/5\n",
      "22003/22003 [==============================] - 33s 1ms/step - loss: 0.3131 - accuracy: 0.8701 - val_loss: 0.2809 - val_accuracy: 0.8813\n",
      "Epoch 3/5\n",
      "22003/22003 [==============================] - 32s 1ms/step - loss: 0.2413 - accuracy: 0.9028 - val_loss: 0.2535 - val_accuracy: 0.8980\n",
      "Epoch 4/5\n",
      "22003/22003 [==============================] - 34s 2ms/step - loss: 0.1876 - accuracy: 0.9263 - val_loss: 0.2936 - val_accuracy: 0.8883\n",
      "Epoch 5/5\n",
      "22003/22003 [==============================] - 32s 1ms/step - loss: 0.1585 - accuracy: 0.9391 - val_loss: 0.3327 - val_accuracy: 0.8773\n"
     ]
    },
    {
     "name": "stderr",
     "output_type": "stream",
     "text": [
      "C:\\Users\\yiorg\\anaconda3\\envs\\dl\\lib\\site-packages\\tensorflow_core\\python\\framework\\indexed_slices.py:433: UserWarning: Converting sparse IndexedSlices to a dense Tensor of unknown shape. This may consume a large amount of memory.\n",
      "  \"Converting sparse IndexedSlices to a dense Tensor of unknown shape. \"\n"
     ]
    },
    {
     "name": "stdout",
     "output_type": "stream",
     "text": [
      "Train on 22003 samples, validate on 10838 samples\n",
      "Epoch 1/5\n",
      "22003/22003 [==============================] - 49s 2ms/step - loss: 0.5205 - accuracy: 0.7304 - val_loss: 0.3249 - val_accuracy: 0.8655\n",
      "Epoch 2/5\n",
      "22003/22003 [==============================] - 47s 2ms/step - loss: 0.2949 - accuracy: 0.8792 - val_loss: 0.2806 - val_accuracy: 0.8812\n",
      "Epoch 3/5\n",
      "22003/22003 [==============================] - 48s 2ms/step - loss: 0.2272 - accuracy: 0.9105 - val_loss: 0.2583 - val_accuracy: 0.8897\n",
      "Epoch 4/5\n",
      "22003/22003 [==============================] - 47s 2ms/step - loss: 0.1848 - accuracy: 0.9281 - val_loss: 0.2713 - val_accuracy: 0.8860\n",
      "Epoch 5/5\n",
      "22003/22003 [==============================] - 48s 2ms/step - loss: 0.1558 - accuracy: 0.9411 - val_loss: 0.2928 - val_accuracy: 0.8922\n"
     ]
    },
    {
     "name": "stderr",
     "output_type": "stream",
     "text": [
      "C:\\Users\\yiorg\\anaconda3\\envs\\dl\\lib\\site-packages\\tensorflow_core\\python\\framework\\indexed_slices.py:433: UserWarning: Converting sparse IndexedSlices to a dense Tensor of unknown shape. This may consume a large amount of memory.\n",
      "  \"Converting sparse IndexedSlices to a dense Tensor of unknown shape. \"\n"
     ]
    },
    {
     "name": "stdout",
     "output_type": "stream",
     "text": [
      "Train on 22003 samples, validate on 10838 samples\n",
      "Epoch 1/5\n",
      "22003/22003 [==============================] - 35s 2ms/step - loss: 0.5510 - accuracy: 0.7124 - val_loss: 0.3394 - val_accuracy: 0.8658\n",
      "Epoch 2/5\n",
      "22003/22003 [==============================] - 32s 1ms/step - loss: 0.3329 - accuracy: 0.8585 - val_loss: 0.2775 - val_accuracy: 0.8892\n",
      "Epoch 3/5\n",
      "22003/22003 [==============================] - 33s 2ms/step - loss: 0.2685 - accuracy: 0.8910 - val_loss: 0.2720 - val_accuracy: 0.8879\n",
      "Epoch 4/5\n",
      "22003/22003 [==============================] - 34s 2ms/step - loss: 0.2331 - accuracy: 0.9050 - val_loss: 0.3004 - val_accuracy: 0.8767\n",
      "Epoch 5/5\n",
      "22003/22003 [==============================] - 34s 2ms/step - loss: 0.2020 - accuracy: 0.9213 - val_loss: 0.3150 - val_accuracy: 0.8708\n"
     ]
    },
    {
     "name": "stderr",
     "output_type": "stream",
     "text": [
      "C:\\Users\\yiorg\\anaconda3\\envs\\dl\\lib\\site-packages\\tensorflow_core\\python\\framework\\indexed_slices.py:433: UserWarning: Converting sparse IndexedSlices to a dense Tensor of unknown shape. This may consume a large amount of memory.\n",
      "  \"Converting sparse IndexedSlices to a dense Tensor of unknown shape. \"\n"
     ]
    },
    {
     "name": "stdout",
     "output_type": "stream",
     "text": [
      "Train on 22003 samples, validate on 10838 samples\n",
      "Epoch 1/5\n",
      "22003/22003 [==============================] - 50s 2ms/step - loss: 0.5110 - accuracy: 0.7440 - val_loss: 0.3138 - val_accuracy: 0.8672\n",
      "Epoch 2/5\n",
      "22003/22003 [==============================] - 52s 2ms/step - loss: 0.2663 - accuracy: 0.8925 - val_loss: 0.2503 - val_accuracy: 0.8974\n",
      "Epoch 3/5\n",
      "22003/22003 [==============================] - 50s 2ms/step - loss: 0.1922 - accuracy: 0.9263 - val_loss: 0.2675 - val_accuracy: 0.8980\n",
      "Epoch 4/5\n",
      "22003/22003 [==============================] - 48s 2ms/step - loss: 0.1489 - accuracy: 0.9444 - val_loss: 0.2587 - val_accuracy: 0.8964\n",
      "Epoch 5/5\n",
      "22003/22003 [==============================] - 49s 2ms/step - loss: 0.1276 - accuracy: 0.9532 - val_loss: 0.2781 - val_accuracy: 0.8927\n"
     ]
    },
    {
     "name": "stderr",
     "output_type": "stream",
     "text": [
      "C:\\Users\\yiorg\\anaconda3\\envs\\dl\\lib\\site-packages\\tensorflow_core\\python\\framework\\indexed_slices.py:433: UserWarning: Converting sparse IndexedSlices to a dense Tensor of unknown shape. This may consume a large amount of memory.\n",
      "  \"Converting sparse IndexedSlices to a dense Tensor of unknown shape. \"\n"
     ]
    },
    {
     "name": "stdout",
     "output_type": "stream",
     "text": [
      "Train on 22003 samples, validate on 10838 samples\n",
      "Epoch 1/5\n",
      "22003/22003 [==============================] - 35s 2ms/step - loss: 0.5588 - accuracy: 0.7047 - val_loss: 0.3596 - val_accuracy: 0.8465\n",
      "Epoch 2/5\n",
      "22003/22003 [==============================] - 33s 2ms/step - loss: 0.3372 - accuracy: 0.8582 - val_loss: 0.2713 - val_accuracy: 0.8949\n",
      "Epoch 3/5\n",
      "22003/22003 [==============================] - 33s 2ms/step - loss: 0.2576 - accuracy: 0.8981 - val_loss: 0.2578 - val_accuracy: 0.8963\n",
      "Epoch 4/5\n",
      "22003/22003 [==============================] - 33s 2ms/step - loss: 0.2080 - accuracy: 0.9193 - val_loss: 0.2710 - val_accuracy: 0.8863\n",
      "Epoch 5/5\n",
      "22003/22003 [==============================] - 34s 2ms/step - loss: 0.1781 - accuracy: 0.9336 - val_loss: 0.2807 - val_accuracy: 0.8858\n"
     ]
    },
    {
     "name": "stderr",
     "output_type": "stream",
     "text": [
      "C:\\Users\\yiorg\\anaconda3\\envs\\dl\\lib\\site-packages\\tensorflow_core\\python\\framework\\indexed_slices.py:433: UserWarning: Converting sparse IndexedSlices to a dense Tensor of unknown shape. This may consume a large amount of memory.\n",
      "  \"Converting sparse IndexedSlices to a dense Tensor of unknown shape. \"\n"
     ]
    },
    {
     "name": "stdout",
     "output_type": "stream",
     "text": [
      "Train on 22003 samples, validate on 10838 samples\n",
      "Epoch 1/5\n",
      "22003/22003 [==============================] - 59s 3ms/step - loss: 0.4881 - accuracy: 0.7545 - val_loss: 0.2941 - val_accuracy: 0.8765\n",
      "Epoch 2/5\n",
      "22003/22003 [==============================] - 57s 3ms/step - loss: 0.2565 - accuracy: 0.8983 - val_loss: 0.2479 - val_accuracy: 0.8973\n",
      "Epoch 3/5\n",
      "22003/22003 [==============================] - 56s 3ms/step - loss: 0.1907 - accuracy: 0.9262 - val_loss: 0.2502 - val_accuracy: 0.8949\n",
      "Epoch 4/5\n",
      "22003/22003 [==============================] - 58s 3ms/step - loss: 0.1593 - accuracy: 0.9398 - val_loss: 0.2585 - val_accuracy: 0.8981\n",
      "Epoch 5/5\n",
      "22003/22003 [==============================] - 57s 3ms/step - loss: 0.1315 - accuracy: 0.9536 - val_loss: 0.2777 - val_accuracy: 0.8938\n"
     ]
    },
    {
     "name": "stderr",
     "output_type": "stream",
     "text": [
      "C:\\Users\\yiorg\\anaconda3\\envs\\dl\\lib\\site-packages\\tensorflow_core\\python\\framework\\indexed_slices.py:433: UserWarning: Converting sparse IndexedSlices to a dense Tensor of unknown shape. This may consume a large amount of memory.\n",
      "  \"Converting sparse IndexedSlices to a dense Tensor of unknown shape. \"\n"
     ]
    },
    {
     "name": "stdout",
     "output_type": "stream",
     "text": [
      "Train on 22003 samples, validate on 10838 samples\n",
      "Epoch 1/5\n",
      "22003/22003 [==============================] - 38s 2ms/step - loss: 0.5532 - accuracy: 0.7143 - val_loss: 0.3457 - val_accuracy: 0.8576\n",
      "Epoch 2/5\n",
      "22003/22003 [==============================] - 38s 2ms/step - loss: 0.3347 - accuracy: 0.8612 - val_loss: 0.2731 - val_accuracy: 0.8878\n",
      "Epoch 3/5\n",
      "22003/22003 [==============================] - 37s 2ms/step - loss: 0.2675 - accuracy: 0.8935 - val_loss: 0.2660 - val_accuracy: 0.8920\n",
      "Epoch 4/5\n",
      "22003/22003 [==============================] - 37s 2ms/step - loss: 0.2155 - accuracy: 0.9181 - val_loss: 0.2849 - val_accuracy: 0.8792\n",
      "Epoch 5/5\n",
      "22003/22003 [==============================] - 38s 2ms/step - loss: 0.1867 - accuracy: 0.9308 - val_loss: 0.2893 - val_accuracy: 0.8851\n"
     ]
    },
    {
     "name": "stderr",
     "output_type": "stream",
     "text": [
      "C:\\Users\\yiorg\\anaconda3\\envs\\dl\\lib\\site-packages\\tensorflow_core\\python\\framework\\indexed_slices.py:433: UserWarning: Converting sparse IndexedSlices to a dense Tensor of unknown shape. This may consume a large amount of memory.\n",
      "  \"Converting sparse IndexedSlices to a dense Tensor of unknown shape. \"\n"
     ]
    },
    {
     "name": "stdout",
     "output_type": "stream",
     "text": [
      "Train on 22003 samples, validate on 10838 samples\n",
      "Epoch 1/5\n",
      "22003/22003 [==============================] - 56s 3ms/step - loss: 0.5026 - accuracy: 0.7457 - val_loss: 0.3273 - val_accuracy: 0.8628\n",
      "Epoch 2/5\n",
      "22003/22003 [==============================] - 53s 2ms/step - loss: 0.2772 - accuracy: 0.8887 - val_loss: 0.2771 - val_accuracy: 0.8838\n",
      "Epoch 3/5\n",
      "22003/22003 [==============================] - 54s 2ms/step - loss: 0.2092 - accuracy: 0.9206 - val_loss: 0.2689 - val_accuracy: 0.8917\n",
      "Epoch 4/5\n",
      "22003/22003 [==============================] - 55s 2ms/step - loss: 0.1749 - accuracy: 0.9337 - val_loss: 0.2795 - val_accuracy: 0.8930\n",
      "Epoch 5/5\n",
      "22003/22003 [==============================] - 56s 3ms/step - loss: 0.1453 - accuracy: 0.9457 - val_loss: 0.2850 - val_accuracy: 0.8935\n"
     ]
    },
    {
     "name": "stderr",
     "output_type": "stream",
     "text": [
      "C:\\Users\\yiorg\\anaconda3\\envs\\dl\\lib\\site-packages\\tensorflow_core\\python\\framework\\indexed_slices.py:433: UserWarning: Converting sparse IndexedSlices to a dense Tensor of unknown shape. This may consume a large amount of memory.\n",
      "  \"Converting sparse IndexedSlices to a dense Tensor of unknown shape. \"\n"
     ]
    },
    {
     "name": "stdout",
     "output_type": "stream",
     "text": [
      "Train on 22003 samples, validate on 10838 samples\n",
      "Epoch 1/5\n",
      "22003/22003 [==============================] - 38s 2ms/step - loss: 0.5673 - accuracy: 0.7037 - val_loss: 0.3812 - val_accuracy: 0.8452\n",
      "Epoch 2/5\n",
      "22003/22003 [==============================] - 38s 2ms/step - loss: 0.3626 - accuracy: 0.8457 - val_loss: 0.2939 - val_accuracy: 0.8832\n",
      "Epoch 3/5\n",
      "22003/22003 [==============================] - 38s 2ms/step - loss: 0.3008 - accuracy: 0.8779 - val_loss: 0.3208 - val_accuracy: 0.8620\n",
      "Epoch 4/5\n",
      "22003/22003 [==============================] - 36s 2ms/step - loss: 0.2640 - accuracy: 0.8962 - val_loss: 0.3464 - val_accuracy: 0.8490\n",
      "Epoch 5/5\n",
      "22003/22003 [==============================] - 37s 2ms/step - loss: 0.2333 - accuracy: 0.9084 - val_loss: 0.3428 - val_accuracy: 0.8499\n"
     ]
    },
    {
     "name": "stderr",
     "output_type": "stream",
     "text": [
      "C:\\Users\\yiorg\\anaconda3\\envs\\dl\\lib\\site-packages\\tensorflow_core\\python\\framework\\indexed_slices.py:433: UserWarning: Converting sparse IndexedSlices to a dense Tensor of unknown shape. This may consume a large amount of memory.\n",
      "  \"Converting sparse IndexedSlices to a dense Tensor of unknown shape. \"\n"
     ]
    },
    {
     "name": "stdout",
     "output_type": "stream",
     "text": [
      "Train on 22003 samples, validate on 10838 samples\n",
      "Epoch 1/5\n",
      "22003/22003 [==============================] - 54s 2ms/step - loss: 0.5200 - accuracy: 0.7367 - val_loss: 0.3117 - val_accuracy: 0.8724\n",
      "Epoch 2/5\n",
      "22003/22003 [==============================] - 52s 2ms/step - loss: 0.2803 - accuracy: 0.8883 - val_loss: 0.2622 - val_accuracy: 0.8894\n",
      "Epoch 3/5\n",
      "22003/22003 [==============================] - 52s 2ms/step - loss: 0.2001 - accuracy: 0.9225 - val_loss: 0.2456 - val_accuracy: 0.8989\n",
      "Epoch 4/5\n",
      "22003/22003 [==============================] - 52s 2ms/step - loss: 0.1583 - accuracy: 0.9425 - val_loss: 0.3053 - val_accuracy: 0.8974\n",
      "Epoch 5/5\n",
      "22003/22003 [==============================] - 52s 2ms/step - loss: 0.1308 - accuracy: 0.9523 - val_loss: 0.2797 - val_accuracy: 0.8913\n"
     ]
    },
    {
     "name": "stderr",
     "output_type": "stream",
     "text": [
      "C:\\Users\\yiorg\\anaconda3\\envs\\dl\\lib\\site-packages\\tensorflow_core\\python\\framework\\indexed_slices.py:433: UserWarning: Converting sparse IndexedSlices to a dense Tensor of unknown shape. This may consume a large amount of memory.\n",
      "  \"Converting sparse IndexedSlices to a dense Tensor of unknown shape. \"\n"
     ]
    },
    {
     "name": "stdout",
     "output_type": "stream",
     "text": [
      "Train on 22003 samples, validate on 10838 samples\n",
      "Epoch 1/5\n",
      "22003/22003 [==============================] - 35s 2ms/step - loss: 0.5863 - accuracy: 0.6847 - val_loss: 0.3516 - val_accuracy: 0.8574\n",
      "Epoch 2/5\n",
      "22003/22003 [==============================] - 35s 2ms/step - loss: 0.3649 - accuracy: 0.8504 - val_loss: 0.2748 - val_accuracy: 0.8898\n",
      "Epoch 3/5\n",
      "22003/22003 [==============================] - 35s 2ms/step - loss: 0.2867 - accuracy: 0.8913 - val_loss: 0.2554 - val_accuracy: 0.8969\n",
      "Epoch 4/5\n",
      "22003/22003 [==============================] - 34s 2ms/step - loss: 0.2327 - accuracy: 0.9130 - val_loss: 0.2732 - val_accuracy: 0.8872\n",
      "Epoch 5/5\n",
      "22003/22003 [==============================] - 35s 2ms/step - loss: 0.2057 - accuracy: 0.9277 - val_loss: 0.2931 - val_accuracy: 0.8843\n"
     ]
    },
    {
     "name": "stderr",
     "output_type": "stream",
     "text": [
      "C:\\Users\\yiorg\\anaconda3\\envs\\dl\\lib\\site-packages\\tensorflow_core\\python\\framework\\indexed_slices.py:433: UserWarning: Converting sparse IndexedSlices to a dense Tensor of unknown shape. This may consume a large amount of memory.\n",
      "  \"Converting sparse IndexedSlices to a dense Tensor of unknown shape. \"\n"
     ]
    },
    {
     "name": "stdout",
     "output_type": "stream",
     "text": [
      "Train on 22003 samples, validate on 10838 samples\n",
      "Epoch 1/5\n",
      "22003/22003 [==============================] - 52s 2ms/step - loss: 0.5762 - accuracy: 0.6948 - val_loss: 0.3553 - val_accuracy: 0.8525\n",
      "Epoch 2/5\n",
      "22003/22003 [==============================] - 51s 2ms/step - loss: 0.3254 - accuracy: 0.8704 - val_loss: 0.2676 - val_accuracy: 0.8908\n",
      "Epoch 3/5\n",
      "22003/22003 [==============================] - 51s 2ms/step - loss: 0.2418 - accuracy: 0.9116 - val_loss: 0.2520 - val_accuracy: 0.8955\n",
      "Epoch 4/5\n",
      "22003/22003 [==============================] - 50s 2ms/step - loss: 0.1938 - accuracy: 0.9305 - val_loss: 0.2657 - val_accuracy: 0.8952\n",
      "Epoch 5/5\n",
      "22003/22003 [==============================] - 51s 2ms/step - loss: 0.1579 - accuracy: 0.9442 - val_loss: 0.2840 - val_accuracy: 0.8930\n"
     ]
    }
   ],
   "source": [
    "hl_after_lstm, hb_after_lstm = {}, {}\n",
    "for dropout_after_lstm in [0, 0.10, 0.25, 0.375, 0.50, 0.625, 0.75]:\n",
    "    lstm_kw['recurrent_dropout'] = 0.0\n",
    "    lstm_kw['dropout'] = 0.375\n",
    "    lstm = create_model(embedding, conv1d, lstm_kw, \n",
    "                        dropout_after_embedding=0.50,\n",
    "                        dropout_after_conv1d=0.10,\n",
    "                        dropout_after_lstm=dropout_after_lstm,\n",
    "                        bidirectional=False)\n",
    "    lstm_kw['dropout'] = 0.10\n",
    "    blstm = create_model(embedding, conv1d, lstm_kw, \n",
    "                         dropout_after_embedding=0.50,\n",
    "                         dropout_after_conv1d=0.25,\n",
    "                         dropout_after_lstm=dropout_after_lstm,\n",
    "                         bidirectional=True)\n",
    "    hl = lstm.fit(X_train, y_train, batch_size=64, epochs=5, validation_data=(X_test, y_test))\n",
    "    hb = blstm.fit(X_train, y_train, batch_size=64, epochs=5, validation_data=(X_test, y_test))\n",
    "    hl_acc, hb_acc = max(hl.history['val_accuracy']), max(hb.history['val_accuracy'])\n",
    "    hl_after_lstm[dropout_after_lstm] = hl_acc\n",
    "    hb_after_lstm[dropout_after_lstm] = hb_acc "
   ]
  },
  {
   "cell_type": "code",
   "execution_count": 141,
   "metadata": {},
   "outputs": [
    {
     "data": {
      "text/html": [
       "<div>\n",
       "<style scoped>\n",
       "    .dataframe tbody tr th:only-of-type {\n",
       "        vertical-align: middle;\n",
       "    }\n",
       "\n",
       "    .dataframe tbody tr th {\n",
       "        vertical-align: top;\n",
       "    }\n",
       "\n",
       "    .dataframe thead th {\n",
       "        text-align: right;\n",
       "    }\n",
       "</style>\n",
       "<table border=\"1\" class=\"dataframe\">\n",
       "  <thead>\n",
       "    <tr style=\"text-align: right;\">\n",
       "      <th></th>\n",
       "      <th>lstm</th>\n",
       "      <th>blstm</th>\n",
       "    </tr>\n",
       "  </thead>\n",
       "  <tbody>\n",
       "    <tr>\n",
       "      <th>0.000</th>\n",
       "      <td>0.897859</td>\n",
       "      <td>0.900166</td>\n",
       "    </tr>\n",
       "    <tr>\n",
       "      <th>0.100</th>\n",
       "      <td>0.897952</td>\n",
       "      <td>0.892231</td>\n",
       "    </tr>\n",
       "    <tr>\n",
       "      <th>0.250</th>\n",
       "      <td>0.889186</td>\n",
       "      <td>0.897952</td>\n",
       "    </tr>\n",
       "    <tr>\n",
       "      <th>0.375</th>\n",
       "      <td>0.896291</td>\n",
       "      <td>0.898136</td>\n",
       "    </tr>\n",
       "    <tr>\n",
       "      <th>0.500</th>\n",
       "      <td>0.892047</td>\n",
       "      <td>0.893523</td>\n",
       "    </tr>\n",
       "    <tr>\n",
       "      <th>0.625</th>\n",
       "      <td>0.883189</td>\n",
       "      <td>0.898874</td>\n",
       "    </tr>\n",
       "    <tr>\n",
       "      <th>0.750</th>\n",
       "      <td>0.896937</td>\n",
       "      <td>0.895460</td>\n",
       "    </tr>\n",
       "  </tbody>\n",
       "</table>\n",
       "</div>"
      ],
      "text/plain": [
       "           lstm     blstm\n",
       "0.000  0.897859  0.900166\n",
       "0.100  0.897952  0.892231\n",
       "0.250  0.889186  0.897952\n",
       "0.375  0.896291  0.898136\n",
       "0.500  0.892047  0.893523\n",
       "0.625  0.883189  0.898874\n",
       "0.750  0.896937  0.895460"
      ]
     },
     "execution_count": 141,
     "metadata": {},
     "output_type": "execute_result"
    }
   ],
   "source": [
    "hl_after_lstm = pd.Series(hl_after_lstm, name='lstm_drop_after_lstm')\n",
    "hb_after_lstm = pd.Series(hb_after_lstm, name='blstm_drop_after_lstm')\n",
    "\n",
    "pd.to_pickle(hl_after_lstm, \"hl_dropout_after_lstm.pkl\")\n",
    "pd.to_pickle(hb_after_lstm, \"hb_dropout_after_lstm.pkl\")\n",
    "pd.DataFrame({'lstm':hl_after_lstm, 'blstm':hb_after_lstm})"
   ]
  },
  {
   "cell_type": "code",
   "execution_count": 142,
   "metadata": {},
   "outputs": [
    {
     "data": {
      "image/png": "[encoded data removed]",
      "text/plain": [
       "<Figure size 864x288 with 1 Axes>"
      ]
     },
     "metadata": {
      "needs_background": "light"
     },
     "output_type": "display_data"
    }
   ],
   "source": [
    "plt.figure(figsize=(12, 4))\n",
    "hl_after_lstm.plot(label='lstm', marker='o')\n",
    "hb_after_lstm.plot(label='blstm', marker='*')\n",
    "plt.legend(fancybox=True, shadow=True)\n",
    "plt.grid()\n",
    "plt.xlabel(\"dropout\")\n",
    "plt.ylabel(\"accuracy\")\n",
    "plt.title(\"LSTM Recurrent Dropout VS Accuracy\");"
   ]
  },
  {
   "cell_type": "code",
   "execution_count": null,
   "metadata": {},
   "outputs": [],
   "source": []
  },
  {
   "cell_type": "code",
   "execution_count": null,
   "metadata": {},
   "outputs": [],
   "source": []
  }
 ],
 "metadata": {
  "kernelspec": {
   "display_name": "Python 3",
   "language": "python",
   "name": "python3"
  },
  "language_info": {
   "codemirror_mode": {
    "name": "ipython",
    "version": 3
   },
   "file_extension": ".py",
   "mimetype": "text/x-python",
   "name": "python",
   "nbconvert_exporter": "python",
   "pygments_lexer": "ipython3",
   "version": "3.6.12"
  }
 },
 "nbformat": 4,
 "nbformat_minor": 4
}
